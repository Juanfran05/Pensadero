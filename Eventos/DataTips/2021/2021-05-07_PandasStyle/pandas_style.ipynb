{
 "cells": [
  {
   "cell_type": "markdown",
   "metadata": {},
   "source": [
    " <center><h1> Pandas.Style </h1><center>\n",
    "    \n",
    " <center><h3><i>   Una forma de aplicar estilos al DataFrame.  </i></h3><center>\n",
    "\n",
    "Si bien sabemos que uno de los mejores caminos para comunicar resultados, son los gráficos, muchas veces necesitamos o preferimos una tabla. Ya sea porque quiero ver el valor preciso o quiero visualizar algo con mucho detalle o se me está complicando crear la visualización. Para estos casos, sería ideal  por lo menos poder tunear el DataFrame a gusto, ya sea resaltar algún valor, pintar de acuerdo a una escala, setear el formato de los números con 500 decimales, entre algunas de las cosas.\n",
    "Para esta configuración, pandas nos ofrece el módulo Style, que nos viene a dar una mano y permitirnos de manera fácil y rápida ese cambio de cara de nuestro DataFrame.\n",
    "\n",
    "El estilo se logra mediante CSS. Se escriben \"funciones de estilo\" que toman escalares, DataFrames o Series, y devuelven DataFrames o Series indexados como pares con CSS \"attribute: value\". Estas funciones se pueden pasar de forma incremental al Styler, que recopila los estilos antes de renderizar.\n",
    "     \n",
    "Si se usa en un notebook de Jupyter, Styler ha definido un _repr_html_ para renderizarse automáticamente. De lo contrario, se puee llamar a Styler.render para obtener el HTML generado.     \n",
    "     \n",
    "Para más info: https://pandas.pydata.org/pandas-docs/stable/user_guide/style.html\n",
    "     \n",
    "Sin más que acotar, manos a la obra!"
   ]
  },
  {
   "cell_type": "markdown",
   "metadata": {},
   "source": [
    "## Importamos librerias y Dataset para trabajar\n",
    "Solo nos bastará con numpy y pandas para el procesamiento, sklearn para importar el dataset de Iris, y seaborn en este caso es solo para importar paletas de colores."
   ]
  },
  {
   "cell_type": "code",
   "execution_count": 1,
   "metadata": {},
   "outputs": [],
   "source": [
    "import numpy as np \n",
    "import pandas as pd # procesamiento de datos\n",
    "from sklearn import datasets # para importar el dataset iris directamente desde los dataset que provee sklearn\n",
    "import seaborn as sns # para importar paleta de colores"
   ]
  },
  {
   "cell_type": "code",
   "execution_count": 2,
   "metadata": {},
   "outputs": [
    {
     "data": {
      "text/plain": [
       "'1.2.4'"
      ]
     },
     "execution_count": 2,
     "metadata": {},
     "output_type": "execute_result"
    }
   ],
   "source": [
    "pd.__version__"
   ]
  },
  {
   "cell_type": "markdown",
   "metadata": {},
   "source": [
    "Cargamos el dataset"
   ]
  },
  {
   "cell_type": "code",
   "execution_count": 3,
   "metadata": {},
   "outputs": [],
   "source": [
    "iris = datasets.load_iris()"
   ]
  },
  {
   "cell_type": "code",
   "execution_count": 4,
   "metadata": {},
   "outputs": [],
   "source": [
    "iris = pd.DataFrame(data= np.c_[iris['data'], iris['target']],\n",
    "                     columns= iris['feature_names'] + ['target'])"
   ]
  },
  {
   "cell_type": "markdown",
   "metadata": {},
   "source": [
    "Sobreescribimos algunos valores con nulos para poder ejemplificar más adelante."
   ]
  },
  {
   "cell_type": "code",
   "execution_count": 5,
   "metadata": {},
   "outputs": [],
   "source": [
    "# agregar nulos para ejemplificar\n",
    "iris.iloc[3, 3] = np.nan\n",
    "iris.iloc[0, 2] = np.nan"
   ]
  },
  {
   "cell_type": "markdown",
   "metadata": {},
   "source": [
    "Le pegamos una mirada a como está el dataset"
   ]
  },
  {
   "cell_type": "code",
   "execution_count": 6,
   "metadata": {},
   "outputs": [
    {
     "data": {
      "text/html": [
       "<div>\n",
       "<style scoped>\n",
       "    .dataframe tbody tr th:only-of-type {\n",
       "        vertical-align: middle;\n",
       "    }\n",
       "\n",
       "    .dataframe tbody tr th {\n",
       "        vertical-align: top;\n",
       "    }\n",
       "\n",
       "    .dataframe thead th {\n",
       "        text-align: right;\n",
       "    }\n",
       "</style>\n",
       "<table border=\"1\" class=\"dataframe\">\n",
       "  <thead>\n",
       "    <tr style=\"text-align: right;\">\n",
       "      <th></th>\n",
       "      <th>sepal length (cm)</th>\n",
       "      <th>sepal width (cm)</th>\n",
       "      <th>petal length (cm)</th>\n",
       "      <th>petal width (cm)</th>\n",
       "      <th>target</th>\n",
       "    </tr>\n",
       "  </thead>\n",
       "  <tbody>\n",
       "    <tr>\n",
       "      <th>0</th>\n",
       "      <td>5.1</td>\n",
       "      <td>3.5</td>\n",
       "      <td>NaN</td>\n",
       "      <td>0.2</td>\n",
       "      <td>0.0</td>\n",
       "    </tr>\n",
       "    <tr>\n",
       "      <th>1</th>\n",
       "      <td>4.9</td>\n",
       "      <td>3.0</td>\n",
       "      <td>1.4</td>\n",
       "      <td>0.2</td>\n",
       "      <td>0.0</td>\n",
       "    </tr>\n",
       "    <tr>\n",
       "      <th>2</th>\n",
       "      <td>4.7</td>\n",
       "      <td>3.2</td>\n",
       "      <td>1.3</td>\n",
       "      <td>0.2</td>\n",
       "      <td>0.0</td>\n",
       "    </tr>\n",
       "    <tr>\n",
       "      <th>3</th>\n",
       "      <td>4.6</td>\n",
       "      <td>3.1</td>\n",
       "      <td>1.5</td>\n",
       "      <td>NaN</td>\n",
       "      <td>0.0</td>\n",
       "    </tr>\n",
       "    <tr>\n",
       "      <th>4</th>\n",
       "      <td>5.0</td>\n",
       "      <td>3.6</td>\n",
       "      <td>1.4</td>\n",
       "      <td>0.2</td>\n",
       "      <td>0.0</td>\n",
       "    </tr>\n",
       "  </tbody>\n",
       "</table>\n",
       "</div>"
      ],
      "text/plain": [
       "   sepal length (cm)  sepal width (cm)  petal length (cm)  petal width (cm)  \\\n",
       "0                5.1               3.5                NaN               0.2   \n",
       "1                4.9               3.0                1.4               0.2   \n",
       "2                4.7               3.2                1.3               0.2   \n",
       "3                4.6               3.1                1.5               NaN   \n",
       "4                5.0               3.6                1.4               0.2   \n",
       "\n",
       "   target  \n",
       "0     0.0  \n",
       "1     0.0  \n",
       "2     0.0  \n",
       "3     0.0  \n",
       "4     0.0  "
      ]
     },
     "execution_count": 6,
     "metadata": {},
     "output_type": "execute_result"
    }
   ],
   "source": [
    "iris.head()"
   ]
  },
  {
   "cell_type": "markdown",
   "metadata": {},
   "source": [
    "## Style Functions\n",
    "Antes de empezar, dejo un resumen de todas las funciones que tiene este módulo. [pandas-docs-here](https://pandas.pydata.org/pandas-docs/stable/reference/style.html)"
   ]
  },
  {
   "cell_type": "markdown",
   "metadata": {},
   "source": [
    "* **apply**(func[, axis, subset]):  Aplicar una función a columnas, filas o tabla.\n",
    "* **applymap**(func[, subset]):  Aplicar una función por elementos.\n",
    "* **background_gradient**([cmap, low, high, axis, …]): Colorear el fondo con un estilo de degradado.\n",
    "* **bar**([subset, axis, color, width, align, …]): Dibujar un gráfico de barras en los fondos de las celdas.\n",
    "* **clear**(): Reiniciar el modelador, eliminando los estilos aplicados previamente.\n",
    "* **export**(): Exportar los estilos para aplicarlos al Styler actual.\n",
    "* **format**(formatter[, subset, na_rep]): Formatear el valor de visualización de texto de las celdas.\n",
    "* **from_custom_template**(searchpath, name): Función Factory para crear una subclase de Styler.\n",
    "* **hide_columns**(subset): Ocultar columnas del renderizado.\n",
    "* **hide_index**(): Ocultar cualquier índice del renderizado.\n",
    "* **highlight_max**([subset, color, axis]): Resaltar el máximo sombreando el fondo.\n",
    "* **highlight_min**([subset, color, axis]): Resaltar el mínimo sombreando el fondo.\n",
    "* **highlight_null**([null_color, subset]): Sombrear el fondo con *null_color* para los valores faltantes.\n",
    "* **pipe**(func, *args*, **kwargs**): Aplicar func(self, *args*, **kwargs**),  y devolver el resultado.\n",
    "* **render**(**kwargs)**: Renderizar los estilos construidos a HTML.\n",
    "* **set_caption**(caption): Setear el título en un Styler.\n",
    "* **set_na_rep**(na_rep): Setear la representación de datos faltantes en un Styler.\n",
    "* **set_precision**(precision): Setear la precisión utilizada para renderizar.\n",
    "* **set_properties**([subset]): Método para setear una o más propiedades no dependientes de datos o cada celda.\n",
    "* **set_table_attributes**(attributes): Setear los atributos de la tabla.\n",
    "* **set_table_styles**(table_styles[, axis, overwrite]) Setear los estilos de tabla en un Styler\n",
    "* **set_td_classes**(classes): Agregar nombres de clase CSS basados en strings a las celdas de datos que aparecerán dentro del resultado HTML de Styler.\n",
    "* **set_uuid**(uuid): Setear el uuid para un Styler.\n",
    "* **to_excel**(excel_writer[, sheet_name, na_rep, …]): Exportar Styler a un Excel.\n",
    "* **use**(styles): Setear los estilos en el Styler actual.\n",
    "* **where**(cond, value[, other, subset]): Aplicar una función por elementos."
   ]
  },
  {
   "cell_type": "markdown",
   "metadata": {},
   "source": [
    "### Estilos Directos o Pre-Contruidos\n",
    "* **background_gradient**([cmap, low, high, axis, …]): Colorear el fondo con un estilo de degradado.\n",
    "* **bar**([subset, axis, color, width, align, …]): Dibujar un gráfico de barras en los fondos de las celdas.\n",
    "* **highlight_max**([subset, color, axis]): Resaltar el máximo sombreando el fondo.\n",
    "* **highlight_min**([subset, color, axis]): Resaltar el mínimo sombreando el fondo.\n",
    "* **highlight_null**([null_color, subset]): Sombrear el fondo con *null_color* para los valores faltantes."
   ]
  },
  {
   "cell_type": "markdown",
   "metadata": {},
   "source": [
    "#### background_gradient\n",
    "background_gradient(cmap='PuBu', low=0, high=0, axis=0, subset=None, text_color_threshold=0.408, vmin=None, vmax=None)"
   ]
  },
  {
   "cell_type": "code",
   "execution_count": 7,
   "metadata": {},
   "outputs": [
    {
     "data": {
      "text/html": [
       "<style  type=\"text/css\" >\n",
       "#T_d0a73_row0_col0,#T_d0a73_row0_col2,#T_d0a73_row0_col3,#T_d0a73_row1_col1{\n",
       "            background-color:  #fff7fb;\n",
       "            color:  #000000;\n",
       "        }#T_d0a73_row0_col1,#T_d0a73_row2_col0,#T_d0a73_row2_col2,#T_d0a73_row2_col3{\n",
       "            background-color:  #023858;\n",
       "            color:  #f1f1f1;\n",
       "        }#T_d0a73_row1_col0{\n",
       "            background-color:  #4897c4;\n",
       "            color:  #000000;\n",
       "        }#T_d0a73_row1_col2{\n",
       "            background-color:  #1e80b8;\n",
       "            color:  #000000;\n",
       "        }#T_d0a73_row1_col3{\n",
       "            background-color:  #3f93c2;\n",
       "            color:  #000000;\n",
       "        }#T_d0a73_row2_col1{\n",
       "            background-color:  #bcc7e1;\n",
       "            color:  #000000;\n",
       "        }</style><table id=\"T_d0a73_\" ><thead>    <tr>        <th class=\"blank level0\" ></th>        <th class=\"col_heading level0 col0\" >sepal length (cm)</th>        <th class=\"col_heading level0 col1\" >sepal width (cm)</th>        <th class=\"col_heading level0 col2\" >petal length (cm)</th>        <th class=\"col_heading level0 col3\" >petal width (cm)</th>    </tr>    <tr>        <th class=\"index_name level0\" >target</th>        <th class=\"blank\" ></th>        <th class=\"blank\" ></th>        <th class=\"blank\" ></th>        <th class=\"blank\" ></th>    </tr></thead><tbody>\n",
       "                <tr>\n",
       "                        <th id=\"T_d0a73_level0_row0\" class=\"row_heading level0 row0\" >0.0</th>\n",
       "                        <td id=\"T_d0a73_row0_col0\" class=\"data row0 col0\" >5.006000</td>\n",
       "                        <td id=\"T_d0a73_row0_col1\" class=\"data row0 col1\" >3.428000</td>\n",
       "                        <td id=\"T_d0a73_row0_col2\" class=\"data row0 col2\" >1.463265</td>\n",
       "                        <td id=\"T_d0a73_row0_col3\" class=\"data row0 col3\" >0.246939</td>\n",
       "            </tr>\n",
       "            <tr>\n",
       "                        <th id=\"T_d0a73_level0_row1\" class=\"row_heading level0 row1\" >1.0</th>\n",
       "                        <td id=\"T_d0a73_row1_col0\" class=\"data row1 col0\" >5.936000</td>\n",
       "                        <td id=\"T_d0a73_row1_col1\" class=\"data row1 col1\" >2.770000</td>\n",
       "                        <td id=\"T_d0a73_row1_col2\" class=\"data row1 col2\" >4.260000</td>\n",
       "                        <td id=\"T_d0a73_row1_col3\" class=\"data row1 col3\" >1.326000</td>\n",
       "            </tr>\n",
       "            <tr>\n",
       "                        <th id=\"T_d0a73_level0_row2\" class=\"row_heading level0 row2\" >2.0</th>\n",
       "                        <td id=\"T_d0a73_row2_col0\" class=\"data row2 col0\" >6.588000</td>\n",
       "                        <td id=\"T_d0a73_row2_col1\" class=\"data row2 col1\" >2.974000</td>\n",
       "                        <td id=\"T_d0a73_row2_col2\" class=\"data row2 col2\" >5.552000</td>\n",
       "                        <td id=\"T_d0a73_row2_col3\" class=\"data row2 col3\" >2.026000</td>\n",
       "            </tr>\n",
       "    </tbody></table>"
      ],
      "text/plain": [
       "<pandas.io.formats.style.Styler at 0x2e429d02748>"
      ]
     },
     "execution_count": 7,
     "metadata": {},
     "output_type": "execute_result"
    }
   ],
   "source": [
    "iris.groupby('target').mean().style.background_gradient()"
   ]
  },
  {
   "cell_type": "markdown",
   "metadata": {},
   "source": [
    "##### Cambiar el eje para calcular el color gradiente\n",
    "* Para aplicar el gradiente por columna (axis=0 o 'index')\n",
    "* Para aplicar el gradiente por fila (axis=1 or 'columns')\n",
    "* Para aplicar al DataFrame entero (axis=None)"
   ]
  },
  {
   "cell_type": "code",
   "execution_count": 8,
   "metadata": {},
   "outputs": [
    {
     "data": {
      "text/html": [
       "<style  type=\"text/css\" >\n",
       "#T_095e6_row0_col0,#T_095e6_row1_col0,#T_095e6_row2_col0{\n",
       "            background-color:  #023858;\n",
       "            color:  #f1f1f1;\n",
       "        }#T_095e6_row0_col1{\n",
       "            background-color:  #2484ba;\n",
       "            color:  #000000;\n",
       "        }#T_095e6_row0_col2{\n",
       "            background-color:  #ced0e6;\n",
       "            color:  #000000;\n",
       "        }#T_095e6_row0_col3,#T_095e6_row1_col3,#T_095e6_row2_col3{\n",
       "            background-color:  #fff7fb;\n",
       "            color:  #000000;\n",
       "        }#T_095e6_row1_col1{\n",
       "            background-color:  #bbc7e0;\n",
       "            color:  #000000;\n",
       "        }#T_095e6_row1_col2{\n",
       "            background-color:  #328dbf;\n",
       "            color:  #000000;\n",
       "        }#T_095e6_row2_col1{\n",
       "            background-color:  #d9d8ea;\n",
       "            color:  #000000;\n",
       "        }#T_095e6_row2_col2{\n",
       "            background-color:  #056caa;\n",
       "            color:  #f1f1f1;\n",
       "        }</style><table id=\"T_095e6_\" ><thead>    <tr>        <th class=\"blank level0\" ></th>        <th class=\"col_heading level0 col0\" >sepal length (cm)</th>        <th class=\"col_heading level0 col1\" >sepal width (cm)</th>        <th class=\"col_heading level0 col2\" >petal length (cm)</th>        <th class=\"col_heading level0 col3\" >petal width (cm)</th>    </tr>    <tr>        <th class=\"index_name level0\" >target</th>        <th class=\"blank\" ></th>        <th class=\"blank\" ></th>        <th class=\"blank\" ></th>        <th class=\"blank\" ></th>    </tr></thead><tbody>\n",
       "                <tr>\n",
       "                        <th id=\"T_095e6_level0_row0\" class=\"row_heading level0 row0\" >0.0</th>\n",
       "                        <td id=\"T_095e6_row0_col0\" class=\"data row0 col0\" >5.006000</td>\n",
       "                        <td id=\"T_095e6_row0_col1\" class=\"data row0 col1\" >3.428000</td>\n",
       "                        <td id=\"T_095e6_row0_col2\" class=\"data row0 col2\" >1.463265</td>\n",
       "                        <td id=\"T_095e6_row0_col3\" class=\"data row0 col3\" >0.246939</td>\n",
       "            </tr>\n",
       "            <tr>\n",
       "                        <th id=\"T_095e6_level0_row1\" class=\"row_heading level0 row1\" >1.0</th>\n",
       "                        <td id=\"T_095e6_row1_col0\" class=\"data row1 col0\" >5.936000</td>\n",
       "                        <td id=\"T_095e6_row1_col1\" class=\"data row1 col1\" >2.770000</td>\n",
       "                        <td id=\"T_095e6_row1_col2\" class=\"data row1 col2\" >4.260000</td>\n",
       "                        <td id=\"T_095e6_row1_col3\" class=\"data row1 col3\" >1.326000</td>\n",
       "            </tr>\n",
       "            <tr>\n",
       "                        <th id=\"T_095e6_level0_row2\" class=\"row_heading level0 row2\" >2.0</th>\n",
       "                        <td id=\"T_095e6_row2_col0\" class=\"data row2 col0\" >6.588000</td>\n",
       "                        <td id=\"T_095e6_row2_col1\" class=\"data row2 col1\" >2.974000</td>\n",
       "                        <td id=\"T_095e6_row2_col2\" class=\"data row2 col2\" >5.552000</td>\n",
       "                        <td id=\"T_095e6_row2_col3\" class=\"data row2 col3\" >2.026000</td>\n",
       "            </tr>\n",
       "    </tbody></table>"
      ],
      "text/plain": [
       "<pandas.io.formats.style.Styler at 0x2e429cd1ec8>"
      ]
     },
     "execution_count": 8,
     "metadata": {},
     "output_type": "execute_result"
    }
   ],
   "source": [
    "iris.groupby('target').mean().style.background_gradient(axis = 1)"
   ]
  },
  {
   "cell_type": "code",
   "execution_count": 9,
   "metadata": {},
   "outputs": [
    {
     "data": {
      "text/html": [
       "<style  type=\"text/css\" >\n",
       "#T_42a1d_row0_col0{\n",
       "            background-color:  #056faf;\n",
       "            color:  #f1f1f1;\n",
       "        }#T_42a1d_row0_col1{\n",
       "            background-color:  #73a9cf;\n",
       "            color:  #000000;\n",
       "        }#T_42a1d_row0_col2{\n",
       "            background-color:  #dddbec;\n",
       "            color:  #000000;\n",
       "        }#T_42a1d_row0_col3{\n",
       "            background-color:  #fff7fb;\n",
       "            color:  #000000;\n",
       "        }#T_42a1d_row1_col0{\n",
       "            background-color:  #045483;\n",
       "            color:  #f1f1f1;\n",
       "        }#T_42a1d_row1_col1{\n",
       "            background-color:  #9ebad9;\n",
       "            color:  #000000;\n",
       "        }#T_42a1d_row1_col2{\n",
       "            background-color:  #328dbf;\n",
       "            color:  #000000;\n",
       "        }#T_42a1d_row1_col3{\n",
       "            background-color:  #e2dfee;\n",
       "            color:  #000000;\n",
       "        }#T_42a1d_row2_col0{\n",
       "            background-color:  #023858;\n",
       "            color:  #f1f1f1;\n",
       "        }#T_42a1d_row2_col1{\n",
       "            background-color:  #8fb4d6;\n",
       "            color:  #000000;\n",
       "        }#T_42a1d_row2_col2{\n",
       "            background-color:  #046097;\n",
       "            color:  #f1f1f1;\n",
       "        }#T_42a1d_row2_col3{\n",
       "            background-color:  #c6cce3;\n",
       "            color:  #000000;\n",
       "        }</style><table id=\"T_42a1d_\" ><thead>    <tr>        <th class=\"blank level0\" ></th>        <th class=\"col_heading level0 col0\" >sepal length (cm)</th>        <th class=\"col_heading level0 col1\" >sepal width (cm)</th>        <th class=\"col_heading level0 col2\" >petal length (cm)</th>        <th class=\"col_heading level0 col3\" >petal width (cm)</th>    </tr>    <tr>        <th class=\"index_name level0\" >target</th>        <th class=\"blank\" ></th>        <th class=\"blank\" ></th>        <th class=\"blank\" ></th>        <th class=\"blank\" ></th>    </tr></thead><tbody>\n",
       "                <tr>\n",
       "                        <th id=\"T_42a1d_level0_row0\" class=\"row_heading level0 row0\" >0.0</th>\n",
       "                        <td id=\"T_42a1d_row0_col0\" class=\"data row0 col0\" >5.006000</td>\n",
       "                        <td id=\"T_42a1d_row0_col1\" class=\"data row0 col1\" >3.428000</td>\n",
       "                        <td id=\"T_42a1d_row0_col2\" class=\"data row0 col2\" >1.463265</td>\n",
       "                        <td id=\"T_42a1d_row0_col3\" class=\"data row0 col3\" >0.246939</td>\n",
       "            </tr>\n",
       "            <tr>\n",
       "                        <th id=\"T_42a1d_level0_row1\" class=\"row_heading level0 row1\" >1.0</th>\n",
       "                        <td id=\"T_42a1d_row1_col0\" class=\"data row1 col0\" >5.936000</td>\n",
       "                        <td id=\"T_42a1d_row1_col1\" class=\"data row1 col1\" >2.770000</td>\n",
       "                        <td id=\"T_42a1d_row1_col2\" class=\"data row1 col2\" >4.260000</td>\n",
       "                        <td id=\"T_42a1d_row1_col3\" class=\"data row1 col3\" >1.326000</td>\n",
       "            </tr>\n",
       "            <tr>\n",
       "                        <th id=\"T_42a1d_level0_row2\" class=\"row_heading level0 row2\" >2.0</th>\n",
       "                        <td id=\"T_42a1d_row2_col0\" class=\"data row2 col0\" >6.588000</td>\n",
       "                        <td id=\"T_42a1d_row2_col1\" class=\"data row2 col1\" >2.974000</td>\n",
       "                        <td id=\"T_42a1d_row2_col2\" class=\"data row2 col2\" >5.552000</td>\n",
       "                        <td id=\"T_42a1d_row2_col3\" class=\"data row2 col3\" >2.026000</td>\n",
       "            </tr>\n",
       "    </tbody></table>"
      ],
      "text/plain": [
       "<pandas.io.formats.style.Styler at 0x2e429cc37c8>"
      ]
     },
     "execution_count": 9,
     "metadata": {},
     "output_type": "execute_result"
    }
   ],
   "source": [
    "iris.groupby('target').mean().style.background_gradient(axis = None)"
   ]
  },
  {
   "cell_type": "markdown",
   "metadata": {},
   "source": [
    "##### Cambiar intensidad de los colores, en base a los valores mínimos y máximos\n",
    "* low: Compress the range by the low.\n",
    "* high: Compress the range by the high.\n",
    "* vmin: Minimum data value that corresponds to colormap minimum value. Default: the minimum value of the data will be used\n",
    "* vmax: Maximum data value that corresponds to colormap maximum value. Default: the maximum value of the data will be used."
   ]
  },
  {
   "cell_type": "code",
   "execution_count": 10,
   "metadata": {},
   "outputs": [
    {
     "data": {
      "text/html": [
       "<style  type=\"text/css\" >\n",
       "#T_a0811_row0_col0,#T_a0811_row0_col2,#T_a0811_row0_col3,#T_a0811_row1_col1{\n",
       "            background-color:  #fff7fb;\n",
       "            color:  #000000;\n",
       "        }#T_a0811_row0_col1,#T_a0811_row2_col3{\n",
       "            background-color:  #73a9cf;\n",
       "            color:  #000000;\n",
       "        }#T_a0811_row1_col0{\n",
       "            background-color:  #c1cae2;\n",
       "            color:  #000000;\n",
       "        }#T_a0811_row1_col2{\n",
       "            background-color:  #b1c2de;\n",
       "            color:  #000000;\n",
       "        }#T_a0811_row1_col3{\n",
       "            background-color:  #bfc9e1;\n",
       "            color:  #000000;\n",
       "        }#T_a0811_row2_col0,#T_a0811_row2_col2{\n",
       "            background-color:  #75a9cf;\n",
       "            color:  #000000;\n",
       "        }#T_a0811_row2_col1{\n",
       "            background-color:  #e6e2ef;\n",
       "            color:  #000000;\n",
       "        }</style><table id=\"T_a0811_\" ><thead>    <tr>        <th class=\"blank level0\" ></th>        <th class=\"col_heading level0 col0\" >sepal length (cm)</th>        <th class=\"col_heading level0 col1\" >sepal width (cm)</th>        <th class=\"col_heading level0 col2\" >petal length (cm)</th>        <th class=\"col_heading level0 col3\" >petal width (cm)</th>    </tr>    <tr>        <th class=\"index_name level0\" >target</th>        <th class=\"blank\" ></th>        <th class=\"blank\" ></th>        <th class=\"blank\" ></th>        <th class=\"blank\" ></th>    </tr></thead><tbody>\n",
       "                <tr>\n",
       "                        <th id=\"T_a0811_level0_row0\" class=\"row_heading level0 row0\" >0.0</th>\n",
       "                        <td id=\"T_a0811_row0_col0\" class=\"data row0 col0\" >5.006000</td>\n",
       "                        <td id=\"T_a0811_row0_col1\" class=\"data row0 col1\" >3.428000</td>\n",
       "                        <td id=\"T_a0811_row0_col2\" class=\"data row0 col2\" >1.463265</td>\n",
       "                        <td id=\"T_a0811_row0_col3\" class=\"data row0 col3\" >0.246939</td>\n",
       "            </tr>\n",
       "            <tr>\n",
       "                        <th id=\"T_a0811_level0_row1\" class=\"row_heading level0 row1\" >1.0</th>\n",
       "                        <td id=\"T_a0811_row1_col0\" class=\"data row1 col0\" >5.936000</td>\n",
       "                        <td id=\"T_a0811_row1_col1\" class=\"data row1 col1\" >2.770000</td>\n",
       "                        <td id=\"T_a0811_row1_col2\" class=\"data row1 col2\" >4.260000</td>\n",
       "                        <td id=\"T_a0811_row1_col3\" class=\"data row1 col3\" >1.326000</td>\n",
       "            </tr>\n",
       "            <tr>\n",
       "                        <th id=\"T_a0811_level0_row2\" class=\"row_heading level0 row2\" >2.0</th>\n",
       "                        <td id=\"T_a0811_row2_col0\" class=\"data row2 col0\" >6.588000</td>\n",
       "                        <td id=\"T_a0811_row2_col1\" class=\"data row2 col1\" >2.974000</td>\n",
       "                        <td id=\"T_a0811_row2_col2\" class=\"data row2 col2\" >5.552000</td>\n",
       "                        <td id=\"T_a0811_row2_col3\" class=\"data row2 col3\" >2.026000</td>\n",
       "            </tr>\n",
       "    </tbody></table>"
      ],
      "text/plain": [
       "<pandas.io.formats.style.Styler at 0x2e429ea0fc8>"
      ]
     },
     "execution_count": 10,
     "metadata": {},
     "output_type": "execute_result"
    }
   ],
   "source": [
    "iris.groupby('target').mean().style.background_gradient(low=0, high=1)"
   ]
  },
  {
   "cell_type": "code",
   "execution_count": 11,
   "metadata": {},
   "outputs": [
    {
     "data": {
      "text/html": [
       "<style  type=\"text/css\" >\n",
       "#T_5a83a_row0_col0,#T_5a83a_row1_col0,#T_5a83a_row2_col0,#T_5a83a_row2_col2{\n",
       "            background-color:  #023858;\n",
       "            color:  #f1f1f1;\n",
       "        }#T_5a83a_row0_col1{\n",
       "            background-color:  #7eadd1;\n",
       "            color:  #000000;\n",
       "        }#T_5a83a_row0_col2,#T_5a83a_row0_col3,#T_5a83a_row1_col3{\n",
       "            background-color:  #fff7fb;\n",
       "            color:  #000000;\n",
       "        }#T_5a83a_row1_col1{\n",
       "            background-color:  #ced0e6;\n",
       "            color:  #000000;\n",
       "        }#T_5a83a_row1_col2{\n",
       "            background-color:  #056faf;\n",
       "            color:  #f1f1f1;\n",
       "        }#T_5a83a_row2_col1{\n",
       "            background-color:  #b7c5df;\n",
       "            color:  #000000;\n",
       "        }#T_5a83a_row2_col3{\n",
       "            background-color:  #fef6fa;\n",
       "            color:  #000000;\n",
       "        }</style><table id=\"T_5a83a_\" ><thead>    <tr>        <th class=\"blank level0\" ></th>        <th class=\"col_heading level0 col0\" >sepal length (cm)</th>        <th class=\"col_heading level0 col1\" >sepal width (cm)</th>        <th class=\"col_heading level0 col2\" >petal length (cm)</th>        <th class=\"col_heading level0 col3\" >petal width (cm)</th>    </tr>    <tr>        <th class=\"index_name level0\" >target</th>        <th class=\"blank\" ></th>        <th class=\"blank\" ></th>        <th class=\"blank\" ></th>        <th class=\"blank\" ></th>    </tr></thead><tbody>\n",
       "                <tr>\n",
       "                        <th id=\"T_5a83a_level0_row0\" class=\"row_heading level0 row0\" >0.0</th>\n",
       "                        <td id=\"T_5a83a_row0_col0\" class=\"data row0 col0\" >5.006000</td>\n",
       "                        <td id=\"T_5a83a_row0_col1\" class=\"data row0 col1\" >3.428000</td>\n",
       "                        <td id=\"T_5a83a_row0_col2\" class=\"data row0 col2\" >1.463265</td>\n",
       "                        <td id=\"T_5a83a_row0_col3\" class=\"data row0 col3\" >0.246939</td>\n",
       "            </tr>\n",
       "            <tr>\n",
       "                        <th id=\"T_5a83a_level0_row1\" class=\"row_heading level0 row1\" >1.0</th>\n",
       "                        <td id=\"T_5a83a_row1_col0\" class=\"data row1 col0\" >5.936000</td>\n",
       "                        <td id=\"T_5a83a_row1_col1\" class=\"data row1 col1\" >2.770000</td>\n",
       "                        <td id=\"T_5a83a_row1_col2\" class=\"data row1 col2\" >4.260000</td>\n",
       "                        <td id=\"T_5a83a_row1_col3\" class=\"data row1 col3\" >1.326000</td>\n",
       "            </tr>\n",
       "            <tr>\n",
       "                        <th id=\"T_5a83a_level0_row2\" class=\"row_heading level0 row2\" >2.0</th>\n",
       "                        <td id=\"T_5a83a_row2_col0\" class=\"data row2 col0\" >6.588000</td>\n",
       "                        <td id=\"T_5a83a_row2_col1\" class=\"data row2 col1\" >2.974000</td>\n",
       "                        <td id=\"T_5a83a_row2_col2\" class=\"data row2 col2\" >5.552000</td>\n",
       "                        <td id=\"T_5a83a_row2_col3\" class=\"data row2 col3\" >2.026000</td>\n",
       "            </tr>\n",
       "    </tbody></table>"
      ],
      "text/plain": [
       "<pandas.io.formats.style.Styler at 0x2e429eaa248>"
      ]
     },
     "execution_count": 11,
     "metadata": {},
     "output_type": "execute_result"
    }
   ],
   "source": [
    "iris.groupby('target').mean().style.background_gradient(vmin=2, vmax=5)"
   ]
  },
  {
   "cell_type": "markdown",
   "metadata": {},
   "source": [
    "##### Seleccionar columnas, filas o un combinado para aplicar estilo"
   ]
  },
  {
   "cell_type": "code",
   "execution_count": 12,
   "metadata": {},
   "outputs": [
    {
     "data": {
      "text/html": [
       "<style  type=\"text/css\" >\n",
       "#T_25de9_row0_col2,#T_25de9_row0_col3{\n",
       "            background-color:  #fff7fb;\n",
       "            color:  #000000;\n",
       "        }#T_25de9_row1_col2{\n",
       "            background-color:  #1e80b8;\n",
       "            color:  #000000;\n",
       "        }#T_25de9_row1_col3{\n",
       "            background-color:  #3f93c2;\n",
       "            color:  #000000;\n",
       "        }#T_25de9_row2_col2,#T_25de9_row2_col3{\n",
       "            background-color:  #023858;\n",
       "            color:  #f1f1f1;\n",
       "        }</style><table id=\"T_25de9_\" ><thead>    <tr>        <th class=\"blank level0\" ></th>        <th class=\"col_heading level0 col0\" >sepal length (cm)</th>        <th class=\"col_heading level0 col1\" >sepal width (cm)</th>        <th class=\"col_heading level0 col2\" >petal length (cm)</th>        <th class=\"col_heading level0 col3\" >petal width (cm)</th>    </tr>    <tr>        <th class=\"index_name level0\" >target</th>        <th class=\"blank\" ></th>        <th class=\"blank\" ></th>        <th class=\"blank\" ></th>        <th class=\"blank\" ></th>    </tr></thead><tbody>\n",
       "                <tr>\n",
       "                        <th id=\"T_25de9_level0_row0\" class=\"row_heading level0 row0\" >0.0</th>\n",
       "                        <td id=\"T_25de9_row0_col0\" class=\"data row0 col0\" >5.006000</td>\n",
       "                        <td id=\"T_25de9_row0_col1\" class=\"data row0 col1\" >3.428000</td>\n",
       "                        <td id=\"T_25de9_row0_col2\" class=\"data row0 col2\" >1.463265</td>\n",
       "                        <td id=\"T_25de9_row0_col3\" class=\"data row0 col3\" >0.246939</td>\n",
       "            </tr>\n",
       "            <tr>\n",
       "                        <th id=\"T_25de9_level0_row1\" class=\"row_heading level0 row1\" >1.0</th>\n",
       "                        <td id=\"T_25de9_row1_col0\" class=\"data row1 col0\" >5.936000</td>\n",
       "                        <td id=\"T_25de9_row1_col1\" class=\"data row1 col1\" >2.770000</td>\n",
       "                        <td id=\"T_25de9_row1_col2\" class=\"data row1 col2\" >4.260000</td>\n",
       "                        <td id=\"T_25de9_row1_col3\" class=\"data row1 col3\" >1.326000</td>\n",
       "            </tr>\n",
       "            <tr>\n",
       "                        <th id=\"T_25de9_level0_row2\" class=\"row_heading level0 row2\" >2.0</th>\n",
       "                        <td id=\"T_25de9_row2_col0\" class=\"data row2 col0\" >6.588000</td>\n",
       "                        <td id=\"T_25de9_row2_col1\" class=\"data row2 col1\" >2.974000</td>\n",
       "                        <td id=\"T_25de9_row2_col2\" class=\"data row2 col2\" >5.552000</td>\n",
       "                        <td id=\"T_25de9_row2_col3\" class=\"data row2 col3\" >2.026000</td>\n",
       "            </tr>\n",
       "    </tbody></table>"
      ],
      "text/plain": [
       "<pandas.io.formats.style.Styler at 0x2e429e32f08>"
      ]
     },
     "execution_count": 12,
     "metadata": {},
     "output_type": "execute_result"
    }
   ],
   "source": [
    "iris.groupby('target').mean().style.background_gradient(subset=['petal length (cm)','petal width (cm)']) "
   ]
  },
  {
   "cell_type": "code",
   "execution_count": 13,
   "metadata": {},
   "outputs": [
    {
     "data": {
      "text/html": [
       "<style  type=\"text/css\" >\n",
       "#T_cb249_row0_col2,#T_cb249_row0_col3{\n",
       "            background-color:  #fff7fb;\n",
       "            color:  #000000;\n",
       "        }#T_cb249_row1_col2,#T_cb249_row1_col3{\n",
       "            background-color:  #023858;\n",
       "            color:  #f1f1f1;\n",
       "        }</style><table id=\"T_cb249_\" ><thead>    <tr>        <th class=\"blank level0\" ></th>        <th class=\"col_heading level0 col0\" >sepal length (cm)</th>        <th class=\"col_heading level0 col1\" >sepal width (cm)</th>        <th class=\"col_heading level0 col2\" >petal length (cm)</th>        <th class=\"col_heading level0 col3\" >petal width (cm)</th>    </tr>    <tr>        <th class=\"index_name level0\" >target</th>        <th class=\"blank\" ></th>        <th class=\"blank\" ></th>        <th class=\"blank\" ></th>        <th class=\"blank\" ></th>    </tr></thead><tbody>\n",
       "                <tr>\n",
       "                        <th id=\"T_cb249_level0_row0\" class=\"row_heading level0 row0\" >0.0</th>\n",
       "                        <td id=\"T_cb249_row0_col0\" class=\"data row0 col0\" >5.006000</td>\n",
       "                        <td id=\"T_cb249_row0_col1\" class=\"data row0 col1\" >3.428000</td>\n",
       "                        <td id=\"T_cb249_row0_col2\" class=\"data row0 col2\" >1.463265</td>\n",
       "                        <td id=\"T_cb249_row0_col3\" class=\"data row0 col3\" >0.246939</td>\n",
       "            </tr>\n",
       "            <tr>\n",
       "                        <th id=\"T_cb249_level0_row1\" class=\"row_heading level0 row1\" >1.0</th>\n",
       "                        <td id=\"T_cb249_row1_col0\" class=\"data row1 col0\" >5.936000</td>\n",
       "                        <td id=\"T_cb249_row1_col1\" class=\"data row1 col1\" >2.770000</td>\n",
       "                        <td id=\"T_cb249_row1_col2\" class=\"data row1 col2\" >4.260000</td>\n",
       "                        <td id=\"T_cb249_row1_col3\" class=\"data row1 col3\" >1.326000</td>\n",
       "            </tr>\n",
       "            <tr>\n",
       "                        <th id=\"T_cb249_level0_row2\" class=\"row_heading level0 row2\" >2.0</th>\n",
       "                        <td id=\"T_cb249_row2_col0\" class=\"data row2 col0\" >6.588000</td>\n",
       "                        <td id=\"T_cb249_row2_col1\" class=\"data row2 col1\" >2.974000</td>\n",
       "                        <td id=\"T_cb249_row2_col2\" class=\"data row2 col2\" >5.552000</td>\n",
       "                        <td id=\"T_cb249_row2_col3\" class=\"data row2 col3\" >2.026000</td>\n",
       "            </tr>\n",
       "    </tbody></table>"
      ],
      "text/plain": [
       "<pandas.io.formats.style.Styler at 0x2e429eac308>"
      ]
     },
     "execution_count": 13,
     "metadata": {},
     "output_type": "execute_result"
    }
   ],
   "source": [
    "iris.groupby('target').mean().style.background_gradient(subset=pd.IndexSlice[0:1,['petal length (cm)','petal width (cm)']])"
   ]
  },
  {
   "cell_type": "markdown",
   "metadata": {},
   "source": [
    "##### Cambiar la paleta de colores"
   ]
  },
  {
   "cell_type": "code",
   "execution_count": 14,
   "metadata": {},
   "outputs": [
    {
     "data": {
      "text/html": [
       "<style  type=\"text/css\" >\n",
       "#T_efe1b_row0_col0,#T_efe1b_row0_col2,#T_efe1b_row0_col3,#T_efe1b_row1_col1{\n",
       "            background-color:  #e5ffe5;\n",
       "            color:  #000000;\n",
       "        }#T_efe1b_row0_col1,#T_efe1b_row2_col0,#T_efe1b_row2_col2,#T_efe1b_row2_col3{\n",
       "            background-color:  #008000;\n",
       "            color:  #f1f1f1;\n",
       "        }#T_efe1b_row1_col0{\n",
       "            background-color:  #5eb45e;\n",
       "            color:  #000000;\n",
       "        }#T_efe1b_row1_col2{\n",
       "            background-color:  #48a848;\n",
       "            color:  #000000;\n",
       "        }#T_efe1b_row1_col3{\n",
       "            background-color:  #5ab25a;\n",
       "            color:  #000000;\n",
       "        }#T_efe1b_row2_col1{\n",
       "            background-color:  #9ed89e;\n",
       "            color:  #000000;\n",
       "        }</style><table id=\"T_efe1b_\" ><thead>    <tr>        <th class=\"blank level0\" ></th>        <th class=\"col_heading level0 col0\" >sepal length (cm)</th>        <th class=\"col_heading level0 col1\" >sepal width (cm)</th>        <th class=\"col_heading level0 col2\" >petal length (cm)</th>        <th class=\"col_heading level0 col3\" >petal width (cm)</th>    </tr>    <tr>        <th class=\"index_name level0\" >target</th>        <th class=\"blank\" ></th>        <th class=\"blank\" ></th>        <th class=\"blank\" ></th>        <th class=\"blank\" ></th>    </tr></thead><tbody>\n",
       "                <tr>\n",
       "                        <th id=\"T_efe1b_level0_row0\" class=\"row_heading level0 row0\" >0.0</th>\n",
       "                        <td id=\"T_efe1b_row0_col0\" class=\"data row0 col0\" >5.006000</td>\n",
       "                        <td id=\"T_efe1b_row0_col1\" class=\"data row0 col1\" >3.428000</td>\n",
       "                        <td id=\"T_efe1b_row0_col2\" class=\"data row0 col2\" >1.463265</td>\n",
       "                        <td id=\"T_efe1b_row0_col3\" class=\"data row0 col3\" >0.246939</td>\n",
       "            </tr>\n",
       "            <tr>\n",
       "                        <th id=\"T_efe1b_level0_row1\" class=\"row_heading level0 row1\" >1.0</th>\n",
       "                        <td id=\"T_efe1b_row1_col0\" class=\"data row1 col0\" >5.936000</td>\n",
       "                        <td id=\"T_efe1b_row1_col1\" class=\"data row1 col1\" >2.770000</td>\n",
       "                        <td id=\"T_efe1b_row1_col2\" class=\"data row1 col2\" >4.260000</td>\n",
       "                        <td id=\"T_efe1b_row1_col3\" class=\"data row1 col3\" >1.326000</td>\n",
       "            </tr>\n",
       "            <tr>\n",
       "                        <th id=\"T_efe1b_level0_row2\" class=\"row_heading level0 row2\" >2.0</th>\n",
       "                        <td id=\"T_efe1b_row2_col0\" class=\"data row2 col0\" >6.588000</td>\n",
       "                        <td id=\"T_efe1b_row2_col1\" class=\"data row2 col1\" >2.974000</td>\n",
       "                        <td id=\"T_efe1b_row2_col2\" class=\"data row2 col2\" >5.552000</td>\n",
       "                        <td id=\"T_efe1b_row2_col3\" class=\"data row2 col3\" >2.026000</td>\n",
       "            </tr>\n",
       "    </tbody></table>"
      ],
      "text/plain": [
       "<pandas.io.formats.style.Styler at 0x2e429eabb48>"
      ]
     },
     "execution_count": 14,
     "metadata": {},
     "output_type": "execute_result"
    }
   ],
   "source": [
    "cm = sns.light_palette(\"green\", as_cmap=True)\n",
    "\n",
    "iris.groupby('target').mean().style.background_gradient(cmap=cm)"
   ]
  },
  {
   "cell_type": "markdown",
   "metadata": {},
   "source": [
    "#### bar\n",
    "bar(subset=None, axis=0, color='#d65f5f', width=100, align='left', vmin=None, vmax=None)\n",
    "\n",
    "align{‘left’, ‘zero’,’ mid’}, default ‘left’\n",
    "Cómo alinear las barras con las celdas.\n",
    "* \"left\": el valor mínimo comienza a la izquierda de la celda.\n",
    "* \"zero\": un valor de cero se encuentra en el centro de la celda.\n",
    "* \"mid\": el centro de la celda está en (max-min) / 2, o si los valores son todos negativos (positivos), el cero se alinea a la derecha (izquierda) de la celda. "
   ]
  },
  {
   "cell_type": "code",
   "execution_count": 15,
   "metadata": {},
   "outputs": [
    {
     "data": {
      "text/html": [
       "<style  type=\"text/css\" >\n",
       "#T_4f533_row0_col0,#T_4f533_row0_col2,#T_4f533_row0_col3,#T_4f533_row1_col1{\n",
       "            width:  10em;\n",
       "             height:  80%;\n",
       "        }#T_4f533_row0_col1,#T_4f533_row2_col0,#T_4f533_row2_col2,#T_4f533_row2_col3{\n",
       "            width:  10em;\n",
       "             height:  80%;\n",
       "            background:  linear-gradient(90deg,#d65f5f 100.0%, transparent 100.0%);\n",
       "        }#T_4f533_row1_col0{\n",
       "            width:  10em;\n",
       "             height:  80%;\n",
       "            background:  linear-gradient(90deg,#d65f5f 58.8%, transparent 58.8%);\n",
       "        }#T_4f533_row1_col2{\n",
       "            width:  10em;\n",
       "             height:  80%;\n",
       "            background:  linear-gradient(90deg,#d65f5f 68.4%, transparent 68.4%);\n",
       "        }#T_4f533_row1_col3{\n",
       "            width:  10em;\n",
       "             height:  80%;\n",
       "            background:  linear-gradient(90deg,#d65f5f 60.7%, transparent 60.7%);\n",
       "        }#T_4f533_row2_col1{\n",
       "            width:  10em;\n",
       "             height:  80%;\n",
       "            background:  linear-gradient(90deg,#d65f5f 31.0%, transparent 31.0%);\n",
       "        }</style><table id=\"T_4f533_\" ><thead>    <tr>        <th class=\"blank level0\" ></th>        <th class=\"col_heading level0 col0\" >sepal length (cm)</th>        <th class=\"col_heading level0 col1\" >sepal width (cm)</th>        <th class=\"col_heading level0 col2\" >petal length (cm)</th>        <th class=\"col_heading level0 col3\" >petal width (cm)</th>    </tr>    <tr>        <th class=\"index_name level0\" >target</th>        <th class=\"blank\" ></th>        <th class=\"blank\" ></th>        <th class=\"blank\" ></th>        <th class=\"blank\" ></th>    </tr></thead><tbody>\n",
       "                <tr>\n",
       "                        <th id=\"T_4f533_level0_row0\" class=\"row_heading level0 row0\" >0.0</th>\n",
       "                        <td id=\"T_4f533_row0_col0\" class=\"data row0 col0\" >5.006000</td>\n",
       "                        <td id=\"T_4f533_row0_col1\" class=\"data row0 col1\" >3.428000</td>\n",
       "                        <td id=\"T_4f533_row0_col2\" class=\"data row0 col2\" >1.463265</td>\n",
       "                        <td id=\"T_4f533_row0_col3\" class=\"data row0 col3\" >0.246939</td>\n",
       "            </tr>\n",
       "            <tr>\n",
       "                        <th id=\"T_4f533_level0_row1\" class=\"row_heading level0 row1\" >1.0</th>\n",
       "                        <td id=\"T_4f533_row1_col0\" class=\"data row1 col0\" >5.936000</td>\n",
       "                        <td id=\"T_4f533_row1_col1\" class=\"data row1 col1\" >2.770000</td>\n",
       "                        <td id=\"T_4f533_row1_col2\" class=\"data row1 col2\" >4.260000</td>\n",
       "                        <td id=\"T_4f533_row1_col3\" class=\"data row1 col3\" >1.326000</td>\n",
       "            </tr>\n",
       "            <tr>\n",
       "                        <th id=\"T_4f533_level0_row2\" class=\"row_heading level0 row2\" >2.0</th>\n",
       "                        <td id=\"T_4f533_row2_col0\" class=\"data row2 col0\" >6.588000</td>\n",
       "                        <td id=\"T_4f533_row2_col1\" class=\"data row2 col1\" >2.974000</td>\n",
       "                        <td id=\"T_4f533_row2_col2\" class=\"data row2 col2\" >5.552000</td>\n",
       "                        <td id=\"T_4f533_row2_col3\" class=\"data row2 col3\" >2.026000</td>\n",
       "            </tr>\n",
       "    </tbody></table>"
      ],
      "text/plain": [
       "<pandas.io.formats.style.Styler at 0x2e429eb8988>"
      ]
     },
     "execution_count": 15,
     "metadata": {},
     "output_type": "execute_result"
    }
   ],
   "source": [
    "iris.groupby('target').mean().style.bar()"
   ]
  },
  {
   "cell_type": "code",
   "execution_count": 16,
   "metadata": {},
   "outputs": [
    {
     "data": {
      "text/html": [
       "<style  type=\"text/css\" >\n",
       "#T_15cd5_row0_col0{\n",
       "            width:  10em;\n",
       "             height:  80%;\n",
       "            background:  linear-gradient(90deg, transparent 50.0%, #d65f5f 50.0%, #d65f5f 88.0%, transparent 88.0%);\n",
       "        }#T_15cd5_row0_col1,#T_15cd5_row2_col0,#T_15cd5_row2_col2,#T_15cd5_row2_col3{\n",
       "            width:  10em;\n",
       "             height:  80%;\n",
       "            background:  linear-gradient(90deg, transparent 50.0%, #d65f5f 50.0%, #d65f5f 100.0%, transparent 100.0%);\n",
       "        }#T_15cd5_row0_col2{\n",
       "            width:  10em;\n",
       "             height:  80%;\n",
       "            background:  linear-gradient(90deg, transparent 50.0%, #d65f5f 50.0%, #d65f5f 63.2%, transparent 63.2%);\n",
       "        }#T_15cd5_row0_col3{\n",
       "            width:  10em;\n",
       "             height:  80%;\n",
       "            background:  linear-gradient(90deg, transparent 50.0%, #d65f5f 50.0%, #d65f5f 56.1%, transparent 56.1%);\n",
       "        }#T_15cd5_row1_col0{\n",
       "            width:  10em;\n",
       "             height:  80%;\n",
       "            background:  linear-gradient(90deg, transparent 50.0%, #d65f5f 50.0%, #d65f5f 95.1%, transparent 95.1%);\n",
       "        }#T_15cd5_row1_col1{\n",
       "            width:  10em;\n",
       "             height:  80%;\n",
       "            background:  linear-gradient(90deg, transparent 50.0%, #d65f5f 50.0%, #d65f5f 90.4%, transparent 90.4%);\n",
       "        }#T_15cd5_row1_col2{\n",
       "            width:  10em;\n",
       "             height:  80%;\n",
       "            background:  linear-gradient(90deg, transparent 50.0%, #d65f5f 50.0%, #d65f5f 88.4%, transparent 88.4%);\n",
       "        }#T_15cd5_row1_col3{\n",
       "            width:  10em;\n",
       "             height:  80%;\n",
       "            background:  linear-gradient(90deg, transparent 50.0%, #d65f5f 50.0%, #d65f5f 82.7%, transparent 82.7%);\n",
       "        }#T_15cd5_row2_col1{\n",
       "            width:  10em;\n",
       "             height:  80%;\n",
       "            background:  linear-gradient(90deg, transparent 50.0%, #d65f5f 50.0%, #d65f5f 93.4%, transparent 93.4%);\n",
       "        }</style><table id=\"T_15cd5_\" ><thead>    <tr>        <th class=\"blank level0\" ></th>        <th class=\"col_heading level0 col0\" >sepal length (cm)</th>        <th class=\"col_heading level0 col1\" >sepal width (cm)</th>        <th class=\"col_heading level0 col2\" >petal length (cm)</th>        <th class=\"col_heading level0 col3\" >petal width (cm)</th>    </tr>    <tr>        <th class=\"index_name level0\" >target</th>        <th class=\"blank\" ></th>        <th class=\"blank\" ></th>        <th class=\"blank\" ></th>        <th class=\"blank\" ></th>    </tr></thead><tbody>\n",
       "                <tr>\n",
       "                        <th id=\"T_15cd5_level0_row0\" class=\"row_heading level0 row0\" >0.0</th>\n",
       "                        <td id=\"T_15cd5_row0_col0\" class=\"data row0 col0\" >5.006000</td>\n",
       "                        <td id=\"T_15cd5_row0_col1\" class=\"data row0 col1\" >3.428000</td>\n",
       "                        <td id=\"T_15cd5_row0_col2\" class=\"data row0 col2\" >1.463265</td>\n",
       "                        <td id=\"T_15cd5_row0_col3\" class=\"data row0 col3\" >0.246939</td>\n",
       "            </tr>\n",
       "            <tr>\n",
       "                        <th id=\"T_15cd5_level0_row1\" class=\"row_heading level0 row1\" >1.0</th>\n",
       "                        <td id=\"T_15cd5_row1_col0\" class=\"data row1 col0\" >5.936000</td>\n",
       "                        <td id=\"T_15cd5_row1_col1\" class=\"data row1 col1\" >2.770000</td>\n",
       "                        <td id=\"T_15cd5_row1_col2\" class=\"data row1 col2\" >4.260000</td>\n",
       "                        <td id=\"T_15cd5_row1_col3\" class=\"data row1 col3\" >1.326000</td>\n",
       "            </tr>\n",
       "            <tr>\n",
       "                        <th id=\"T_15cd5_level0_row2\" class=\"row_heading level0 row2\" >2.0</th>\n",
       "                        <td id=\"T_15cd5_row2_col0\" class=\"data row2 col0\" >6.588000</td>\n",
       "                        <td id=\"T_15cd5_row2_col1\" class=\"data row2 col1\" >2.974000</td>\n",
       "                        <td id=\"T_15cd5_row2_col2\" class=\"data row2 col2\" >5.552000</td>\n",
       "                        <td id=\"T_15cd5_row2_col3\" class=\"data row2 col3\" >2.026000</td>\n",
       "            </tr>\n",
       "    </tbody></table>"
      ],
      "text/plain": [
       "<pandas.io.formats.style.Styler at 0x2e429ec2ec8>"
      ]
     },
     "execution_count": 16,
     "metadata": {},
     "output_type": "execute_result"
    }
   ],
   "source": [
    "iris.groupby('target').mean().style.bar(align='zero')"
   ]
  },
  {
   "cell_type": "markdown",
   "metadata": {},
   "source": [
    "#### highlight_min\n",
    "highlight_min(subset=None, color='yellow', axis=0)"
   ]
  },
  {
   "cell_type": "code",
   "execution_count": 17,
   "metadata": {},
   "outputs": [
    {
     "data": {
      "text/html": [
       "<style  type=\"text/css\" >\n",
       "#T_10a98_row0_col0,#T_10a98_row0_col2,#T_10a98_row0_col3,#T_10a98_row1_col1{\n",
       "            background-color:  blue;\n",
       "        }</style><table id=\"T_10a98_\" ><thead>    <tr>        <th class=\"blank level0\" ></th>        <th class=\"col_heading level0 col0\" >sepal length (cm)</th>        <th class=\"col_heading level0 col1\" >sepal width (cm)</th>        <th class=\"col_heading level0 col2\" >petal length (cm)</th>        <th class=\"col_heading level0 col3\" >petal width (cm)</th>    </tr>    <tr>        <th class=\"index_name level0\" >target</th>        <th class=\"blank\" ></th>        <th class=\"blank\" ></th>        <th class=\"blank\" ></th>        <th class=\"blank\" ></th>    </tr></thead><tbody>\n",
       "                <tr>\n",
       "                        <th id=\"T_10a98_level0_row0\" class=\"row_heading level0 row0\" >0.0</th>\n",
       "                        <td id=\"T_10a98_row0_col0\" class=\"data row0 col0\" >5.006000</td>\n",
       "                        <td id=\"T_10a98_row0_col1\" class=\"data row0 col1\" >3.428000</td>\n",
       "                        <td id=\"T_10a98_row0_col2\" class=\"data row0 col2\" >1.463265</td>\n",
       "                        <td id=\"T_10a98_row0_col3\" class=\"data row0 col3\" >0.246939</td>\n",
       "            </tr>\n",
       "            <tr>\n",
       "                        <th id=\"T_10a98_level0_row1\" class=\"row_heading level0 row1\" >1.0</th>\n",
       "                        <td id=\"T_10a98_row1_col0\" class=\"data row1 col0\" >5.936000</td>\n",
       "                        <td id=\"T_10a98_row1_col1\" class=\"data row1 col1\" >2.770000</td>\n",
       "                        <td id=\"T_10a98_row1_col2\" class=\"data row1 col2\" >4.260000</td>\n",
       "                        <td id=\"T_10a98_row1_col3\" class=\"data row1 col3\" >1.326000</td>\n",
       "            </tr>\n",
       "            <tr>\n",
       "                        <th id=\"T_10a98_level0_row2\" class=\"row_heading level0 row2\" >2.0</th>\n",
       "                        <td id=\"T_10a98_row2_col0\" class=\"data row2 col0\" >6.588000</td>\n",
       "                        <td id=\"T_10a98_row2_col1\" class=\"data row2 col1\" >2.974000</td>\n",
       "                        <td id=\"T_10a98_row2_col2\" class=\"data row2 col2\" >5.552000</td>\n",
       "                        <td id=\"T_10a98_row2_col3\" class=\"data row2 col3\" >2.026000</td>\n",
       "            </tr>\n",
       "    </tbody></table>"
      ],
      "text/plain": [
       "<pandas.io.formats.style.Styler at 0x2e429eab388>"
      ]
     },
     "execution_count": 17,
     "metadata": {},
     "output_type": "execute_result"
    }
   ],
   "source": [
    "iris.groupby('target').mean().style.highlight_min(color='blue')"
   ]
  },
  {
   "cell_type": "markdown",
   "metadata": {},
   "source": [
    "#### highlight_max\n",
    "highlight_max(subset=None, color='yellow', axis=0)"
   ]
  },
  {
   "cell_type": "code",
   "execution_count": 18,
   "metadata": {},
   "outputs": [
    {
     "data": {
      "text/html": [
       "<style  type=\"text/css\" >\n",
       "#T_f40de_row2_col0{\n",
       "            background-color:  orange;\n",
       "        }</style><table id=\"T_f40de_\" ><thead>    <tr>        <th class=\"blank level0\" ></th>        <th class=\"col_heading level0 col0\" >sepal length (cm)</th>        <th class=\"col_heading level0 col1\" >sepal width (cm)</th>        <th class=\"col_heading level0 col2\" >petal length (cm)</th>        <th class=\"col_heading level0 col3\" >petal width (cm)</th>    </tr>    <tr>        <th class=\"index_name level0\" >target</th>        <th class=\"blank\" ></th>        <th class=\"blank\" ></th>        <th class=\"blank\" ></th>        <th class=\"blank\" ></th>    </tr></thead><tbody>\n",
       "                <tr>\n",
       "                        <th id=\"T_f40de_level0_row0\" class=\"row_heading level0 row0\" >0.0</th>\n",
       "                        <td id=\"T_f40de_row0_col0\" class=\"data row0 col0\" >5.006000</td>\n",
       "                        <td id=\"T_f40de_row0_col1\" class=\"data row0 col1\" >3.428000</td>\n",
       "                        <td id=\"T_f40de_row0_col2\" class=\"data row0 col2\" >1.463265</td>\n",
       "                        <td id=\"T_f40de_row0_col3\" class=\"data row0 col3\" >0.246939</td>\n",
       "            </tr>\n",
       "            <tr>\n",
       "                        <th id=\"T_f40de_level0_row1\" class=\"row_heading level0 row1\" >1.0</th>\n",
       "                        <td id=\"T_f40de_row1_col0\" class=\"data row1 col0\" >5.936000</td>\n",
       "                        <td id=\"T_f40de_row1_col1\" class=\"data row1 col1\" >2.770000</td>\n",
       "                        <td id=\"T_f40de_row1_col2\" class=\"data row1 col2\" >4.260000</td>\n",
       "                        <td id=\"T_f40de_row1_col3\" class=\"data row1 col3\" >1.326000</td>\n",
       "            </tr>\n",
       "            <tr>\n",
       "                        <th id=\"T_f40de_level0_row2\" class=\"row_heading level0 row2\" >2.0</th>\n",
       "                        <td id=\"T_f40de_row2_col0\" class=\"data row2 col0\" >6.588000</td>\n",
       "                        <td id=\"T_f40de_row2_col1\" class=\"data row2 col1\" >2.974000</td>\n",
       "                        <td id=\"T_f40de_row2_col2\" class=\"data row2 col2\" >5.552000</td>\n",
       "                        <td id=\"T_f40de_row2_col3\" class=\"data row2 col3\" >2.026000</td>\n",
       "            </tr>\n",
       "    </tbody></table>"
      ],
      "text/plain": [
       "<pandas.io.formats.style.Styler at 0x2e429ec4308>"
      ]
     },
     "execution_count": 18,
     "metadata": {},
     "output_type": "execute_result"
    }
   ],
   "source": [
    "iris.groupby('target').mean().style.highlight_max(color='orange', axis = None)"
   ]
  },
  {
   "cell_type": "markdown",
   "metadata": {},
   "source": [
    "#### highlight_null\n",
    "highlight_null(null_color='red', subset=None)"
   ]
  },
  {
   "cell_type": "code",
   "execution_count": 19,
   "metadata": {},
   "outputs": [
    {
     "data": {
      "text/html": [
       "<style  type=\"text/css\" >\n",
       "#T_c2046_row0_col2,#T_c2046_row3_col3{\n",
       "            background-color:  red;\n",
       "        }</style><table id=\"T_c2046_\" ><thead>    <tr>        <th class=\"blank level0\" ></th>        <th class=\"col_heading level0 col0\" >sepal length (cm)</th>        <th class=\"col_heading level0 col1\" >sepal width (cm)</th>        <th class=\"col_heading level0 col2\" >petal length (cm)</th>        <th class=\"col_heading level0 col3\" >petal width (cm)</th>        <th class=\"col_heading level0 col4\" >target</th>    </tr></thead><tbody>\n",
       "                <tr>\n",
       "                        <th id=\"T_c2046_level0_row0\" class=\"row_heading level0 row0\" >0</th>\n",
       "                        <td id=\"T_c2046_row0_col0\" class=\"data row0 col0\" >5.100000</td>\n",
       "                        <td id=\"T_c2046_row0_col1\" class=\"data row0 col1\" >3.500000</td>\n",
       "                        <td id=\"T_c2046_row0_col2\" class=\"data row0 col2\" >-</td>\n",
       "                        <td id=\"T_c2046_row0_col3\" class=\"data row0 col3\" >0.200000</td>\n",
       "                        <td id=\"T_c2046_row0_col4\" class=\"data row0 col4\" >0.000000</td>\n",
       "            </tr>\n",
       "            <tr>\n",
       "                        <th id=\"T_c2046_level0_row1\" class=\"row_heading level0 row1\" >1</th>\n",
       "                        <td id=\"T_c2046_row1_col0\" class=\"data row1 col0\" >4.900000</td>\n",
       "                        <td id=\"T_c2046_row1_col1\" class=\"data row1 col1\" >3.000000</td>\n",
       "                        <td id=\"T_c2046_row1_col2\" class=\"data row1 col2\" >1.400000</td>\n",
       "                        <td id=\"T_c2046_row1_col3\" class=\"data row1 col3\" >0.200000</td>\n",
       "                        <td id=\"T_c2046_row1_col4\" class=\"data row1 col4\" >0.000000</td>\n",
       "            </tr>\n",
       "            <tr>\n",
       "                        <th id=\"T_c2046_level0_row2\" class=\"row_heading level0 row2\" >2</th>\n",
       "                        <td id=\"T_c2046_row2_col0\" class=\"data row2 col0\" >4.700000</td>\n",
       "                        <td id=\"T_c2046_row2_col1\" class=\"data row2 col1\" >3.200000</td>\n",
       "                        <td id=\"T_c2046_row2_col2\" class=\"data row2 col2\" >1.300000</td>\n",
       "                        <td id=\"T_c2046_row2_col3\" class=\"data row2 col3\" >0.200000</td>\n",
       "                        <td id=\"T_c2046_row2_col4\" class=\"data row2 col4\" >0.000000</td>\n",
       "            </tr>\n",
       "            <tr>\n",
       "                        <th id=\"T_c2046_level0_row3\" class=\"row_heading level0 row3\" >3</th>\n",
       "                        <td id=\"T_c2046_row3_col0\" class=\"data row3 col0\" >4.600000</td>\n",
       "                        <td id=\"T_c2046_row3_col1\" class=\"data row3 col1\" >3.100000</td>\n",
       "                        <td id=\"T_c2046_row3_col2\" class=\"data row3 col2\" >1.500000</td>\n",
       "                        <td id=\"T_c2046_row3_col3\" class=\"data row3 col3\" >-</td>\n",
       "                        <td id=\"T_c2046_row3_col4\" class=\"data row3 col4\" >0.000000</td>\n",
       "            </tr>\n",
       "            <tr>\n",
       "                        <th id=\"T_c2046_level0_row4\" class=\"row_heading level0 row4\" >4</th>\n",
       "                        <td id=\"T_c2046_row4_col0\" class=\"data row4 col0\" >5.000000</td>\n",
       "                        <td id=\"T_c2046_row4_col1\" class=\"data row4 col1\" >3.600000</td>\n",
       "                        <td id=\"T_c2046_row4_col2\" class=\"data row4 col2\" >1.400000</td>\n",
       "                        <td id=\"T_c2046_row4_col3\" class=\"data row4 col3\" >0.200000</td>\n",
       "                        <td id=\"T_c2046_row4_col4\" class=\"data row4 col4\" >0.000000</td>\n",
       "            </tr>\n",
       "            <tr>\n",
       "                        <th id=\"T_c2046_level0_row5\" class=\"row_heading level0 row5\" >5</th>\n",
       "                        <td id=\"T_c2046_row5_col0\" class=\"data row5 col0\" >5.400000</td>\n",
       "                        <td id=\"T_c2046_row5_col1\" class=\"data row5 col1\" >3.900000</td>\n",
       "                        <td id=\"T_c2046_row5_col2\" class=\"data row5 col2\" >1.700000</td>\n",
       "                        <td id=\"T_c2046_row5_col3\" class=\"data row5 col3\" >0.400000</td>\n",
       "                        <td id=\"T_c2046_row5_col4\" class=\"data row5 col4\" >0.000000</td>\n",
       "            </tr>\n",
       "            <tr>\n",
       "                        <th id=\"T_c2046_level0_row6\" class=\"row_heading level0 row6\" >6</th>\n",
       "                        <td id=\"T_c2046_row6_col0\" class=\"data row6 col0\" >4.600000</td>\n",
       "                        <td id=\"T_c2046_row6_col1\" class=\"data row6 col1\" >3.400000</td>\n",
       "                        <td id=\"T_c2046_row6_col2\" class=\"data row6 col2\" >1.400000</td>\n",
       "                        <td id=\"T_c2046_row6_col3\" class=\"data row6 col3\" >0.300000</td>\n",
       "                        <td id=\"T_c2046_row6_col4\" class=\"data row6 col4\" >0.000000</td>\n",
       "            </tr>\n",
       "    </tbody></table>"
      ],
      "text/plain": [
       "<pandas.io.formats.style.Styler at 0x2e429eb8c48>"
      ]
     },
     "execution_count": 19,
     "metadata": {},
     "output_type": "execute_result"
    }
   ],
   "source": [
    "iris.head(7).style.highlight_null(null_color='red').format(None, na_rep=\"-\")"
   ]
  },
  {
   "cell_type": "markdown",
   "metadata": {},
   "source": [
    "### Aplicar estilos personalizados"
   ]
  },
  {
   "cell_type": "markdown",
   "metadata": {},
   "source": [
    "* **applymap**(func[, subset]):  Aplicar una función por elementos.\n",
    "* **apply**(func[, axis, subset]):  Aplicar una función a columnas, filas o tabla.\n",
    "    * *apply(func, axis=0)*: Aplicar una función de estilo por columnas.\n",
    "    * *apply(func, axis=1)*: Aplicar una función de estilo por filas.\n",
    "    * *apply(func, axis=None)*: Aplicar una función de estilo a la tabla."
   ]
  },
  {
   "cell_type": "code",
   "execution_count": 20,
   "metadata": {},
   "outputs": [],
   "source": [
    "def color_median_red(s):\n",
    "    \"\"\"\n",
    "    Toma un escalar y devuelve una cadena \n",
    "    con la propiedad css `'color: blue'` \n",
    "    para valores que superen la mediana, y negro en caso contrario. \n",
    "    \"\"\"\n",
    "    is_max = s >= s.median()\n",
    "    return ['color: blue' if v else '' for v in is_max]"
   ]
  },
  {
   "cell_type": "code",
   "execution_count": 46,
   "metadata": {},
   "outputs": [
    {
     "name": "stdout",
     "output_type": "stream",
     "text": [
      "sepal length (cm)    4.9\n",
      "sepal width (cm)     3.3\n",
      "petal length (cm)    1.4\n",
      "petal width (cm)     0.2\n",
      "target               0.0\n",
      "dtype: float64\n"
     ]
    },
    {
     "data": {
      "text/html": [
       "<style  type=\"text/css\" >\n",
       "#T_d3bc9_row0_col0,#T_d3bc9_row0_col1,#T_d3bc9_row0_col3,#T_d3bc9_row1_col0,#T_d3bc9_row1_col2,#T_d3bc9_row1_col3,#T_d3bc9_row2_col3,#T_d3bc9_row3_col2,#T_d3bc9_row4_col0,#T_d3bc9_row4_col1,#T_d3bc9_row4_col2,#T_d3bc9_row4_col3,#T_d3bc9_row5_col0,#T_d3bc9_row5_col1,#T_d3bc9_row5_col2,#T_d3bc9_row5_col3,#T_d3bc9_row6_col1,#T_d3bc9_row6_col2,#T_d3bc9_row6_col3,#T_d3bc9_row7_col0,#T_d3bc9_row7_col1,#T_d3bc9_row7_col2,#T_d3bc9_row7_col3,#T_d3bc9_row8_col2,#T_d3bc9_row8_col3,#T_d3bc9_row9_col0,#T_d3bc9_row9_col2{\n",
       "            color:  blue;\n",
       "        }#T_d3bc9_row0_col2,#T_d3bc9_row3_col3{\n",
       "            background-color:  red;\n",
       "        }</style><table id=\"T_d3bc9_\" ><thead>    <tr>        <th class=\"blank level0\" ></th>        <th class=\"col_heading level0 col0\" >sepal length (cm)</th>        <th class=\"col_heading level0 col1\" >sepal width (cm)</th>        <th class=\"col_heading level0 col2\" >petal length (cm)</th>        <th class=\"col_heading level0 col3\" >petal width (cm)</th>        <th class=\"col_heading level0 col4\" >target</th>    </tr></thead><tbody>\n",
       "                <tr>\n",
       "                        <th id=\"T_d3bc9_level0_row0\" class=\"row_heading level0 row0\" >0</th>\n",
       "                        <td id=\"T_d3bc9_row0_col0\" class=\"data row0 col0\" >5.100000</td>\n",
       "                        <td id=\"T_d3bc9_row0_col1\" class=\"data row0 col1\" >3.500000</td>\n",
       "                        <td id=\"T_d3bc9_row0_col2\" class=\"data row0 col2\" >nan</td>\n",
       "                        <td id=\"T_d3bc9_row0_col3\" class=\"data row0 col3\" >0.200000</td>\n",
       "                        <td id=\"T_d3bc9_row0_col4\" class=\"data row0 col4\" >0.000000</td>\n",
       "            </tr>\n",
       "            <tr>\n",
       "                        <th id=\"T_d3bc9_level0_row1\" class=\"row_heading level0 row1\" >1</th>\n",
       "                        <td id=\"T_d3bc9_row1_col0\" class=\"data row1 col0\" >4.900000</td>\n",
       "                        <td id=\"T_d3bc9_row1_col1\" class=\"data row1 col1\" >3.000000</td>\n",
       "                        <td id=\"T_d3bc9_row1_col2\" class=\"data row1 col2\" >1.400000</td>\n",
       "                        <td id=\"T_d3bc9_row1_col3\" class=\"data row1 col3\" >0.200000</td>\n",
       "                        <td id=\"T_d3bc9_row1_col4\" class=\"data row1 col4\" >0.000000</td>\n",
       "            </tr>\n",
       "            <tr>\n",
       "                        <th id=\"T_d3bc9_level0_row2\" class=\"row_heading level0 row2\" >2</th>\n",
       "                        <td id=\"T_d3bc9_row2_col0\" class=\"data row2 col0\" >4.700000</td>\n",
       "                        <td id=\"T_d3bc9_row2_col1\" class=\"data row2 col1\" >3.200000</td>\n",
       "                        <td id=\"T_d3bc9_row2_col2\" class=\"data row2 col2\" >1.300000</td>\n",
       "                        <td id=\"T_d3bc9_row2_col3\" class=\"data row2 col3\" >0.200000</td>\n",
       "                        <td id=\"T_d3bc9_row2_col4\" class=\"data row2 col4\" >0.000000</td>\n",
       "            </tr>\n",
       "            <tr>\n",
       "                        <th id=\"T_d3bc9_level0_row3\" class=\"row_heading level0 row3\" >3</th>\n",
       "                        <td id=\"T_d3bc9_row3_col0\" class=\"data row3 col0\" >4.600000</td>\n",
       "                        <td id=\"T_d3bc9_row3_col1\" class=\"data row3 col1\" >3.100000</td>\n",
       "                        <td id=\"T_d3bc9_row3_col2\" class=\"data row3 col2\" >1.500000</td>\n",
       "                        <td id=\"T_d3bc9_row3_col3\" class=\"data row3 col3\" >nan</td>\n",
       "                        <td id=\"T_d3bc9_row3_col4\" class=\"data row3 col4\" >0.000000</td>\n",
       "            </tr>\n",
       "            <tr>\n",
       "                        <th id=\"T_d3bc9_level0_row4\" class=\"row_heading level0 row4\" >4</th>\n",
       "                        <td id=\"T_d3bc9_row4_col0\" class=\"data row4 col0\" >5.000000</td>\n",
       "                        <td id=\"T_d3bc9_row4_col1\" class=\"data row4 col1\" >3.600000</td>\n",
       "                        <td id=\"T_d3bc9_row4_col2\" class=\"data row4 col2\" >1.400000</td>\n",
       "                        <td id=\"T_d3bc9_row4_col3\" class=\"data row4 col3\" >0.200000</td>\n",
       "                        <td id=\"T_d3bc9_row4_col4\" class=\"data row4 col4\" >0.000000</td>\n",
       "            </tr>\n",
       "            <tr>\n",
       "                        <th id=\"T_d3bc9_level0_row5\" class=\"row_heading level0 row5\" >5</th>\n",
       "                        <td id=\"T_d3bc9_row5_col0\" class=\"data row5 col0\" >5.400000</td>\n",
       "                        <td id=\"T_d3bc9_row5_col1\" class=\"data row5 col1\" >3.900000</td>\n",
       "                        <td id=\"T_d3bc9_row5_col2\" class=\"data row5 col2\" >1.700000</td>\n",
       "                        <td id=\"T_d3bc9_row5_col3\" class=\"data row5 col3\" >0.400000</td>\n",
       "                        <td id=\"T_d3bc9_row5_col4\" class=\"data row5 col4\" >0.000000</td>\n",
       "            </tr>\n",
       "            <tr>\n",
       "                        <th id=\"T_d3bc9_level0_row6\" class=\"row_heading level0 row6\" >6</th>\n",
       "                        <td id=\"T_d3bc9_row6_col0\" class=\"data row6 col0\" >4.600000</td>\n",
       "                        <td id=\"T_d3bc9_row6_col1\" class=\"data row6 col1\" >3.400000</td>\n",
       "                        <td id=\"T_d3bc9_row6_col2\" class=\"data row6 col2\" >1.400000</td>\n",
       "                        <td id=\"T_d3bc9_row6_col3\" class=\"data row6 col3\" >0.300000</td>\n",
       "                        <td id=\"T_d3bc9_row6_col4\" class=\"data row6 col4\" >0.000000</td>\n",
       "            </tr>\n",
       "            <tr>\n",
       "                        <th id=\"T_d3bc9_level0_row7\" class=\"row_heading level0 row7\" >7</th>\n",
       "                        <td id=\"T_d3bc9_row7_col0\" class=\"data row7 col0\" >5.000000</td>\n",
       "                        <td id=\"T_d3bc9_row7_col1\" class=\"data row7 col1\" >3.400000</td>\n",
       "                        <td id=\"T_d3bc9_row7_col2\" class=\"data row7 col2\" >1.500000</td>\n",
       "                        <td id=\"T_d3bc9_row7_col3\" class=\"data row7 col3\" >0.200000</td>\n",
       "                        <td id=\"T_d3bc9_row7_col4\" class=\"data row7 col4\" >0.000000</td>\n",
       "            </tr>\n",
       "            <tr>\n",
       "                        <th id=\"T_d3bc9_level0_row8\" class=\"row_heading level0 row8\" >8</th>\n",
       "                        <td id=\"T_d3bc9_row8_col0\" class=\"data row8 col0\" >4.400000</td>\n",
       "                        <td id=\"T_d3bc9_row8_col1\" class=\"data row8 col1\" >2.900000</td>\n",
       "                        <td id=\"T_d3bc9_row8_col2\" class=\"data row8 col2\" >1.400000</td>\n",
       "                        <td id=\"T_d3bc9_row8_col3\" class=\"data row8 col3\" >0.200000</td>\n",
       "                        <td id=\"T_d3bc9_row8_col4\" class=\"data row8 col4\" >0.000000</td>\n",
       "            </tr>\n",
       "            <tr>\n",
       "                        <th id=\"T_d3bc9_level0_row9\" class=\"row_heading level0 row9\" >9</th>\n",
       "                        <td id=\"T_d3bc9_row9_col0\" class=\"data row9 col0\" >4.900000</td>\n",
       "                        <td id=\"T_d3bc9_row9_col1\" class=\"data row9 col1\" >3.100000</td>\n",
       "                        <td id=\"T_d3bc9_row9_col2\" class=\"data row9 col2\" >1.500000</td>\n",
       "                        <td id=\"T_d3bc9_row9_col3\" class=\"data row9 col3\" >0.100000</td>\n",
       "                        <td id=\"T_d3bc9_row9_col4\" class=\"data row9 col4\" >0.000000</td>\n",
       "            </tr>\n",
       "    </tbody></table>"
      ],
      "text/plain": [
       "<pandas.io.formats.style.Styler at 0x2e429ee0ac8>"
      ]
     },
     "execution_count": 46,
     "metadata": {},
     "output_type": "execute_result"
    }
   ],
   "source": [
    "print(iris.head(10).median())\n",
    "iris_median = iris.head(10).style.apply(color_median_red, subset= iris.columns.drop('target')).highlight_null(null_color='red')\n",
    "iris_median"
   ]
  },
  {
   "cell_type": "code",
   "execution_count": 22,
   "metadata": {},
   "outputs": [
    {
     "data": {
      "text/html": [
       "<div>\n",
       "<style scoped>\n",
       "    .dataframe tbody tr th:only-of-type {\n",
       "        vertical-align: middle;\n",
       "    }\n",
       "\n",
       "    .dataframe tbody tr th {\n",
       "        vertical-align: top;\n",
       "    }\n",
       "\n",
       "    .dataframe thead th {\n",
       "        text-align: right;\n",
       "    }\n",
       "</style>\n",
       "<table border=\"1\" class=\"dataframe\">\n",
       "  <thead>\n",
       "    <tr style=\"text-align: right;\">\n",
       "      <th></th>\n",
       "      <th>sepal length (cm)</th>\n",
       "      <th>sepal width (cm)</th>\n",
       "      <th>petal length (cm)</th>\n",
       "      <th>petal width (cm)</th>\n",
       "    </tr>\n",
       "    <tr>\n",
       "      <th>target</th>\n",
       "      <th></th>\n",
       "      <th></th>\n",
       "      <th></th>\n",
       "      <th></th>\n",
       "    </tr>\n",
       "  </thead>\n",
       "  <tbody>\n",
       "    <tr>\n",
       "      <th>0.0</th>\n",
       "      <td>5.006</td>\n",
       "      <td>3.428</td>\n",
       "      <td>1.463265</td>\n",
       "      <td>0.246939</td>\n",
       "    </tr>\n",
       "    <tr>\n",
       "      <th>1.0</th>\n",
       "      <td>5.936</td>\n",
       "      <td>2.770</td>\n",
       "      <td>4.260000</td>\n",
       "      <td>1.326000</td>\n",
       "    </tr>\n",
       "    <tr>\n",
       "      <th>2.0</th>\n",
       "      <td>6.588</td>\n",
       "      <td>2.974</td>\n",
       "      <td>5.552000</td>\n",
       "      <td>2.026000</td>\n",
       "    </tr>\n",
       "  </tbody>\n",
       "</table>\n",
       "</div>"
      ],
      "text/plain": [
       "        sepal length (cm)  sepal width (cm)  petal length (cm)  \\\n",
       "target                                                           \n",
       "0.0                 5.006             3.428           1.463265   \n",
       "1.0                 5.936             2.770           4.260000   \n",
       "2.0                 6.588             2.974           5.552000   \n",
       "\n",
       "        petal width (cm)  \n",
       "target                    \n",
       "0.0             0.246939  \n",
       "1.0             1.326000  \n",
       "2.0             2.026000  "
      ]
     },
     "execution_count": 22,
     "metadata": {},
     "output_type": "execute_result"
    }
   ],
   "source": [
    "iris.groupby('target').mean()"
   ]
  },
  {
   "cell_type": "code",
   "execution_count": 23,
   "metadata": {},
   "outputs": [
    {
     "data": {
      "text/html": [
       "<div>\n",
       "<style scoped>\n",
       "    .dataframe tbody tr th:only-of-type {\n",
       "        vertical-align: middle;\n",
       "    }\n",
       "\n",
       "    .dataframe tbody tr th {\n",
       "        vertical-align: top;\n",
       "    }\n",
       "\n",
       "    .dataframe thead th {\n",
       "        text-align: right;\n",
       "    }\n",
       "</style>\n",
       "<table border=\"1\" class=\"dataframe\">\n",
       "  <thead>\n",
       "    <tr style=\"text-align: right;\">\n",
       "      <th></th>\n",
       "      <th>sepal length (cm)</th>\n",
       "      <th>sepal width (cm)</th>\n",
       "      <th>petal length (cm)</th>\n",
       "      <th>petal width (cm)</th>\n",
       "    </tr>\n",
       "    <tr>\n",
       "      <th>target</th>\n",
       "      <th></th>\n",
       "      <th></th>\n",
       "      <th></th>\n",
       "      <th></th>\n",
       "    </tr>\n",
       "  </thead>\n",
       "  <tbody>\n",
       "    <tr>\n",
       "      <th>0.0</th>\n",
       "      <td>bajo</td>\n",
       "      <td>alto</td>\n",
       "      <td>bajo</td>\n",
       "      <td>bajo</td>\n",
       "    </tr>\n",
       "    <tr>\n",
       "      <th>1.0</th>\n",
       "      <td>medio</td>\n",
       "      <td>bajo</td>\n",
       "      <td>alto</td>\n",
       "      <td>medio</td>\n",
       "    </tr>\n",
       "    <tr>\n",
       "      <th>2.0</th>\n",
       "      <td>alto</td>\n",
       "      <td>bajo</td>\n",
       "      <td>alto</td>\n",
       "      <td>alto</td>\n",
       "    </tr>\n",
       "  </tbody>\n",
       "</table>\n",
       "</div>"
      ],
      "text/plain": [
       "       sepal length (cm) sepal width (cm) petal length (cm) petal width (cm)\n",
       "target                                                                      \n",
       "0.0                 bajo             alto              bajo             bajo\n",
       "1.0                medio             bajo              alto            medio\n",
       "2.0                 alto             bajo              alto             alto"
      ]
     },
     "execution_count": 23,
     "metadata": {},
     "output_type": "execute_result"
    }
   ],
   "source": [
    "iris_cut =  iris.groupby('target').mean().apply(lambda x: pd.cut(x,3,labels =['bajo','medio','alto']), axis =0)\n",
    "iris_cut"
   ]
  },
  {
   "cell_type": "code",
   "execution_count": 24,
   "metadata": {},
   "outputs": [],
   "source": [
    "def color_by_category(val):    \n",
    "    \"\"\"\n",
    "    Toma un valor string y devuelve una cadena \n",
    "    con la propiedad css `'background-color'` segun el valor \n",
    "    alto: verde, medio: amarillo y bajo: rojo\n",
    "    \"\"\"\n",
    "    \n",
    "    if( val == 'bajo'): color = '#FF5733'    \n",
    "    elif (val == 'medio'): color = 'yellow'  \n",
    "    elif (val == 'alto'): color = '#50BA0A'\n",
    "    else: color = 'white'\n",
    "    return 'background-color: %s' % color"
   ]
  },
  {
   "cell_type": "code",
   "execution_count": 25,
   "metadata": {},
   "outputs": [
    {
     "name": "stdout",
     "output_type": "stream",
     "text": [
      "<class 'pandas.io.formats.style.Styler'>\n"
     ]
    },
    {
     "data": {
      "text/html": [
       "<style  type=\"text/css\" >\n",
       "#T_18919_row0_col0,#T_18919_row0_col2,#T_18919_row0_col3,#T_18919_row1_col1,#T_18919_row2_col1{\n",
       "            background-color:  #FF5733;\n",
       "        }#T_18919_row0_col1,#T_18919_row1_col2,#T_18919_row2_col0,#T_18919_row2_col2,#T_18919_row2_col3{\n",
       "            background-color:  #50BA0A;\n",
       "        }#T_18919_row1_col0,#T_18919_row1_col3{\n",
       "            background-color:  yellow;\n",
       "        }</style><table id=\"T_18919_\" ><thead>    <tr>        <th class=\"blank level0\" ></th>        <th class=\"col_heading level0 col0\" >sepal length (cm)</th>        <th class=\"col_heading level0 col1\" >sepal width (cm)</th>        <th class=\"col_heading level0 col2\" >petal length (cm)</th>        <th class=\"col_heading level0 col3\" >petal width (cm)</th>    </tr>    <tr>        <th class=\"index_name level0\" >target</th>        <th class=\"blank\" ></th>        <th class=\"blank\" ></th>        <th class=\"blank\" ></th>        <th class=\"blank\" ></th>    </tr></thead><tbody>\n",
       "                <tr>\n",
       "                        <th id=\"T_18919_level0_row0\" class=\"row_heading level0 row0\" >0.0</th>\n",
       "                        <td id=\"T_18919_row0_col0\" class=\"data row0 col0\" >bajo</td>\n",
       "                        <td id=\"T_18919_row0_col1\" class=\"data row0 col1\" >alto</td>\n",
       "                        <td id=\"T_18919_row0_col2\" class=\"data row0 col2\" >bajo</td>\n",
       "                        <td id=\"T_18919_row0_col3\" class=\"data row0 col3\" >bajo</td>\n",
       "            </tr>\n",
       "            <tr>\n",
       "                        <th id=\"T_18919_level0_row1\" class=\"row_heading level0 row1\" >1.0</th>\n",
       "                        <td id=\"T_18919_row1_col0\" class=\"data row1 col0\" >medio</td>\n",
       "                        <td id=\"T_18919_row1_col1\" class=\"data row1 col1\" >bajo</td>\n",
       "                        <td id=\"T_18919_row1_col2\" class=\"data row1 col2\" >alto</td>\n",
       "                        <td id=\"T_18919_row1_col3\" class=\"data row1 col3\" >medio</td>\n",
       "            </tr>\n",
       "            <tr>\n",
       "                        <th id=\"T_18919_level0_row2\" class=\"row_heading level0 row2\" >2.0</th>\n",
       "                        <td id=\"T_18919_row2_col0\" class=\"data row2 col0\" >alto</td>\n",
       "                        <td id=\"T_18919_row2_col1\" class=\"data row2 col1\" >bajo</td>\n",
       "                        <td id=\"T_18919_row2_col2\" class=\"data row2 col2\" >alto</td>\n",
       "                        <td id=\"T_18919_row2_col3\" class=\"data row2 col3\" >alto</td>\n",
       "            </tr>\n",
       "    </tbody></table>"
      ],
      "text/plain": [
       "<pandas.io.formats.style.Styler at 0x2e429ec2988>"
      ]
     },
     "execution_count": 25,
     "metadata": {},
     "output_type": "execute_result"
    }
   ],
   "source": [
    "iris_cut_colors = iris_cut.style.applymap(color_by_category)\n",
    "print(type(iris_cut_colors))\n",
    "iris_cut_colors"
   ]
  },
  {
   "cell_type": "code",
   "execution_count": 26,
   "metadata": {},
   "outputs": [
    {
     "name": "stderr",
     "output_type": "stream",
     "text": [
      "C:\\ProgramData\\Miniconda3\\lib\\site-packages\\ipykernel_launcher.py:2: FutureWarning: The default value of regex will change from True to False in a future version.\n",
      "  \n"
     ]
    },
    {
     "data": {
      "text/html": [
       "<style  type=\"text/css\" >\n",
       "#T_48ecb_row0_col0,#T_48ecb_row0_col2,#T_48ecb_row0_col3,#T_48ecb_row1_col1,#T_48ecb_row2_col1{\n",
       "            background-color:  #FF5733;\n",
       "        }#T_48ecb_row0_col1,#T_48ecb_row1_col2,#T_48ecb_row2_col0,#T_48ecb_row2_col2,#T_48ecb_row2_col3{\n",
       "            background-color:  #50BA0A;\n",
       "        }#T_48ecb_row1_col0,#T_48ecb_row1_col3{\n",
       "            background-color:  yellow;\n",
       "        }</style><table id=\"T_48ecb_\" ><thead>    <tr>        <th class=\"blank level0\" ></th>        <th class=\"col_heading level0 col0\" >sepal length cat</th>        <th class=\"col_heading level0 col1\" >sepal width cat</th>        <th class=\"col_heading level0 col2\" >petal length cat</th>        <th class=\"col_heading level0 col3\" >petal width cat</th>        <th class=\"col_heading level0 col4\" >sepal length (cm)</th>        <th class=\"col_heading level0 col5\" >sepal width (cm)</th>        <th class=\"col_heading level0 col6\" >petal length (cm)</th>        <th class=\"col_heading level0 col7\" >petal width (cm)</th>    </tr>    <tr>        <th class=\"index_name level0\" >target</th>        <th class=\"blank\" ></th>        <th class=\"blank\" ></th>        <th class=\"blank\" ></th>        <th class=\"blank\" ></th>        <th class=\"blank\" ></th>        <th class=\"blank\" ></th>        <th class=\"blank\" ></th>        <th class=\"blank\" ></th>    </tr></thead><tbody>\n",
       "                <tr>\n",
       "                        <th id=\"T_48ecb_level0_row0\" class=\"row_heading level0 row0\" >0.0</th>\n",
       "                        <td id=\"T_48ecb_row0_col0\" class=\"data row0 col0\" >bajo</td>\n",
       "                        <td id=\"T_48ecb_row0_col1\" class=\"data row0 col1\" >alto</td>\n",
       "                        <td id=\"T_48ecb_row0_col2\" class=\"data row0 col2\" >bajo</td>\n",
       "                        <td id=\"T_48ecb_row0_col3\" class=\"data row0 col3\" >bajo</td>\n",
       "                        <td id=\"T_48ecb_row0_col4\" class=\"data row0 col4\" >5.006000</td>\n",
       "                        <td id=\"T_48ecb_row0_col5\" class=\"data row0 col5\" >3.428000</td>\n",
       "                        <td id=\"T_48ecb_row0_col6\" class=\"data row0 col6\" >1.463265</td>\n",
       "                        <td id=\"T_48ecb_row0_col7\" class=\"data row0 col7\" >0.246939</td>\n",
       "            </tr>\n",
       "            <tr>\n",
       "                        <th id=\"T_48ecb_level0_row1\" class=\"row_heading level0 row1\" >1.0</th>\n",
       "                        <td id=\"T_48ecb_row1_col0\" class=\"data row1 col0\" >medio</td>\n",
       "                        <td id=\"T_48ecb_row1_col1\" class=\"data row1 col1\" >bajo</td>\n",
       "                        <td id=\"T_48ecb_row1_col2\" class=\"data row1 col2\" >alto</td>\n",
       "                        <td id=\"T_48ecb_row1_col3\" class=\"data row1 col3\" >medio</td>\n",
       "                        <td id=\"T_48ecb_row1_col4\" class=\"data row1 col4\" >5.936000</td>\n",
       "                        <td id=\"T_48ecb_row1_col5\" class=\"data row1 col5\" >2.770000</td>\n",
       "                        <td id=\"T_48ecb_row1_col6\" class=\"data row1 col6\" >4.260000</td>\n",
       "                        <td id=\"T_48ecb_row1_col7\" class=\"data row1 col7\" >1.326000</td>\n",
       "            </tr>\n",
       "            <tr>\n",
       "                        <th id=\"T_48ecb_level0_row2\" class=\"row_heading level0 row2\" >2.0</th>\n",
       "                        <td id=\"T_48ecb_row2_col0\" class=\"data row2 col0\" >alto</td>\n",
       "                        <td id=\"T_48ecb_row2_col1\" class=\"data row2 col1\" >bajo</td>\n",
       "                        <td id=\"T_48ecb_row2_col2\" class=\"data row2 col2\" >alto</td>\n",
       "                        <td id=\"T_48ecb_row2_col3\" class=\"data row2 col3\" >alto</td>\n",
       "                        <td id=\"T_48ecb_row2_col4\" class=\"data row2 col4\" >6.588000</td>\n",
       "                        <td id=\"T_48ecb_row2_col5\" class=\"data row2 col5\" >2.974000</td>\n",
       "                        <td id=\"T_48ecb_row2_col6\" class=\"data row2 col6\" >5.552000</td>\n",
       "                        <td id=\"T_48ecb_row2_col7\" class=\"data row2 col7\" >2.026000</td>\n",
       "            </tr>\n",
       "    </tbody></table>"
      ],
      "text/plain": [
       "<pandas.io.formats.style.Styler at 0x2e429ec4bc8>"
      ]
     },
     "execution_count": 26,
     "metadata": {},
     "output_type": "execute_result"
    }
   ],
   "source": [
    "group = iris.groupby('target').mean()\n",
    "iris_cut.columns = iris_cut.columns.str.replace('\\(cm\\)', 'cat')\n",
    "pd.concat([iris_cut, iris.groupby('target').mean()], axis = 1).style.applymap(color_by_category, subset = iris_cut.columns)"
   ]
  },
  {
   "cell_type": "markdown",
   "metadata": {},
   "source": [
    "### Guardar la tabla en un excel"
   ]
  },
  {
   "cell_type": "code",
   "execution_count": 27,
   "metadata": {},
   "outputs": [],
   "source": [
    "iris_cut_colors.columns = iris_cut.columns"
   ]
  },
  {
   "cell_type": "code",
   "execution_count": 28,
   "metadata": {},
   "outputs": [],
   "source": [
    "# need install openpyxl\n",
    "iris_cut_colors.to_excel('./my_excel_test.xlsx')"
   ]
  },
  {
   "cell_type": "code",
   "execution_count": 29,
   "metadata": {},
   "outputs": [],
   "source": [
    "#a.data.iloc[:,:] =  iris.groupby('target').mean().iloc[:,:] "
   ]
  },
  {
   "cell_type": "markdown",
   "metadata": {},
   "source": [
    "### Mejorar nuestro estilo"
   ]
  },
  {
   "cell_type": "markdown",
   "metadata": {},
   "source": [
    "* **format**(formatter[, subset, na_rep]): Formatear el valor de visualización de texto de las celdas.\n",
    "* **hide_columns**(subset): Ocultar columnas del renderizado.\n",
    "* **hide_index**(): Ocultar cualquier índice del renderizado.\n",
    "* **render**(**kwargs)**: Renderizar los estilos construidos a HTML.\n",
    "* **set_caption**(caption): Setear el título en un Styler.\n",
    "* **set_na_rep**(na_rep): Setear la representación de datos faltantes en un Styler.\n",
    "* **set_precision**(precision): Setear la precisión utilizada para renderizar.\n",
    "* **set_properties**([subset]): Método para setear una o más propiedades no dependientes de datos o cada celda.\n",
    "* **set_table_attributes**(attributes): Setear los atributos de la tabla.\n",
    "* **set_table_styles**(table_styles[, axis, overwrite]) Setear los estilos de tabla en un Styler\n",
    "* **set_td_classes**(classes): Agregar nombres de clase CSS basados en strings a las celdas de datos que aparecerán dentro del resultado HTML de Styler.\n",
    "* **where**(cond, value[, other, subset]): Aplicar una función por elementos."
   ]
  },
  {
   "cell_type": "code",
   "execution_count": 30,
   "metadata": {},
   "outputs": [
    {
     "data": {
      "text/html": [
       "<style  type=\"text/css\" >\n",
       "#T_b610c_row0_col0,#T_b610c_row0_col1,#T_b610c_row0_col3,#T_b610c_row1_col0,#T_b610c_row1_col2,#T_b610c_row1_col3,#T_b610c_row2_col3,#T_b610c_row3_col2,#T_b610c_row4_col0,#T_b610c_row4_col1,#T_b610c_row4_col2,#T_b610c_row4_col3,#T_b610c_row5_col0,#T_b610c_row5_col1,#T_b610c_row5_col2,#T_b610c_row5_col3,#T_b610c_row6_col1,#T_b610c_row6_col2,#T_b610c_row6_col3,#T_b610c_row7_col0,#T_b610c_row7_col1,#T_b610c_row7_col2,#T_b610c_row7_col3,#T_b610c_row8_col2,#T_b610c_row8_col3,#T_b610c_row9_col0,#T_b610c_row9_col2{\n",
       "            color:  blue;\n",
       "            color:  blue;\n",
       "        }</style><table id=\"T_b610c_\" ><caption>My Table</caption><thead>    <tr>        <th class=\"col_heading level0 col0\" >sepal length (cm)</th>        <th class=\"col_heading level0 col1\" >sepal width (cm)</th>        <th class=\"col_heading level0 col2\" >petal length (cm)</th>        <th class=\"col_heading level0 col3\" >petal width (cm)</th>    </tr></thead><tbody>\n",
       "                <tr>\n",
       "                                <td id=\"T_b610c_row0_col0\" class=\"data row0 col0\" >5.10</td>\n",
       "                        <td id=\"T_b610c_row0_col1\" class=\"data row0 col1\" >3.50</td>\n",
       "                        <td id=\"T_b610c_row0_col2\" class=\"data row0 col2\" >-</td>\n",
       "                        <td id=\"T_b610c_row0_col3\" class=\"data row0 col3\" >0.20</td>\n",
       "                    </tr>\n",
       "            <tr>\n",
       "                                <td id=\"T_b610c_row1_col0\" class=\"data row1 col0\" >4.90</td>\n",
       "                        <td id=\"T_b610c_row1_col1\" class=\"data row1 col1\" >3.00</td>\n",
       "                        <td id=\"T_b610c_row1_col2\" class=\"data row1 col2\" >1.40</td>\n",
       "                        <td id=\"T_b610c_row1_col3\" class=\"data row1 col3\" >0.20</td>\n",
       "                    </tr>\n",
       "            <tr>\n",
       "                                <td id=\"T_b610c_row2_col0\" class=\"data row2 col0\" >4.70</td>\n",
       "                        <td id=\"T_b610c_row2_col1\" class=\"data row2 col1\" >3.20</td>\n",
       "                        <td id=\"T_b610c_row2_col2\" class=\"data row2 col2\" >1.30</td>\n",
       "                        <td id=\"T_b610c_row2_col3\" class=\"data row2 col3\" >0.20</td>\n",
       "                    </tr>\n",
       "            <tr>\n",
       "                                <td id=\"T_b610c_row3_col0\" class=\"data row3 col0\" >4.60</td>\n",
       "                        <td id=\"T_b610c_row3_col1\" class=\"data row3 col1\" >3.10</td>\n",
       "                        <td id=\"T_b610c_row3_col2\" class=\"data row3 col2\" >1.50</td>\n",
       "                        <td id=\"T_b610c_row3_col3\" class=\"data row3 col3\" >-</td>\n",
       "                    </tr>\n",
       "            <tr>\n",
       "                                <td id=\"T_b610c_row4_col0\" class=\"data row4 col0\" >5.00</td>\n",
       "                        <td id=\"T_b610c_row4_col1\" class=\"data row4 col1\" >3.60</td>\n",
       "                        <td id=\"T_b610c_row4_col2\" class=\"data row4 col2\" >1.40</td>\n",
       "                        <td id=\"T_b610c_row4_col3\" class=\"data row4 col3\" >0.20</td>\n",
       "                    </tr>\n",
       "            <tr>\n",
       "                                <td id=\"T_b610c_row5_col0\" class=\"data row5 col0\" >5.40</td>\n",
       "                        <td id=\"T_b610c_row5_col1\" class=\"data row5 col1\" >3.90</td>\n",
       "                        <td id=\"T_b610c_row5_col2\" class=\"data row5 col2\" >1.70</td>\n",
       "                        <td id=\"T_b610c_row5_col3\" class=\"data row5 col3\" >0.40</td>\n",
       "                    </tr>\n",
       "            <tr>\n",
       "                                <td id=\"T_b610c_row6_col0\" class=\"data row6 col0\" >4.60</td>\n",
       "                        <td id=\"T_b610c_row6_col1\" class=\"data row6 col1\" >3.40</td>\n",
       "                        <td id=\"T_b610c_row6_col2\" class=\"data row6 col2\" >1.40</td>\n",
       "                        <td id=\"T_b610c_row6_col3\" class=\"data row6 col3\" >0.30</td>\n",
       "                    </tr>\n",
       "            <tr>\n",
       "                                <td id=\"T_b610c_row7_col0\" class=\"data row7 col0\" >5.00</td>\n",
       "                        <td id=\"T_b610c_row7_col1\" class=\"data row7 col1\" >3.40</td>\n",
       "                        <td id=\"T_b610c_row7_col2\" class=\"data row7 col2\" >1.50</td>\n",
       "                        <td id=\"T_b610c_row7_col3\" class=\"data row7 col3\" >0.20</td>\n",
       "                    </tr>\n",
       "            <tr>\n",
       "                                <td id=\"T_b610c_row8_col0\" class=\"data row8 col0\" >4.40</td>\n",
       "                        <td id=\"T_b610c_row8_col1\" class=\"data row8 col1\" >2.90</td>\n",
       "                        <td id=\"T_b610c_row8_col2\" class=\"data row8 col2\" >1.40</td>\n",
       "                        <td id=\"T_b610c_row8_col3\" class=\"data row8 col3\" >0.20</td>\n",
       "                    </tr>\n",
       "            <tr>\n",
       "                                <td id=\"T_b610c_row9_col0\" class=\"data row9 col0\" >4.90</td>\n",
       "                        <td id=\"T_b610c_row9_col1\" class=\"data row9 col1\" >3.10</td>\n",
       "                        <td id=\"T_b610c_row9_col2\" class=\"data row9 col2\" >1.50</td>\n",
       "                        <td id=\"T_b610c_row9_col3\" class=\"data row9 col3\" >0.10</td>\n",
       "                    </tr>\n",
       "    </tbody></table>"
      ],
      "text/plain": [
       "<pandas.io.formats.style.Styler at 0x2e429ee1a08>"
      ]
     },
     "execution_count": 30,
     "metadata": {},
     "output_type": "execute_result"
    }
   ],
   "source": [
    "iris_median\\\n",
    "    .hide_index()\\\n",
    "    .hide_columns('target') \\\n",
    "    .set_caption('My Table' ) \\\n",
    "    .set_na_rep('FAIL') \\\n",
    "    .format(\"{:.2f}\", na_rep = '-')"
   ]
  },
  {
   "cell_type": "markdown",
   "metadata": {},
   "source": [
    "#### Setear estilo a la tabla"
   ]
  },
  {
   "cell_type": "code",
   "execution_count": 31,
   "metadata": {},
   "outputs": [],
   "source": [
    "my_style = {\n",
    "    'sepal length (cm)': [dict(\n",
    "                                selector='',\n",
    "                                props=[('color', 'green')])],\n",
    "    'sepal width (cm)': [dict(\n",
    "                                selector='td', \n",
    "                                props=[('color', 'red')])],\n",
    "    'petal length (cm)': [dict(\n",
    "                                selector='th', \n",
    "                                props=[('color', 'blue')])],\n",
    "    'petal width (cm)': [dict(\n",
    "                                selector='td', \n",
    "                                props=[('color', 'purple')]),\n",
    "                        dict(\n",
    "                                selector='th', \n",
    "                                props=[('color', 'pink')#,('background-color' , linear-gradient(0deg, rgba(61,164,166,1)))\n",
    "                                      ])],\n",
    "    'target': [dict(\n",
    "                    selector='th', \n",
    "                    props=[('color', 'purple'),\n",
    "                           ('font-size', '15pt'),\n",
    "                           ('border-color', 'blue'),\n",
    "                           ('border-style', 'solid') ]),\n",
    "               dict(\n",
    "                   selector='td', \n",
    "                   props=[('color', 'purple'),\n",
    "                          ('background-color', 'pink'),\n",
    "                          ('font-family', 'arial black'),\n",
    "                          ('border-width', 'thin'), #thing, medium, bold\n",
    "                          ('border-color', 'blue'),\n",
    "                          ('border-style', 'dotted'),\n",
    "                          ('padding', '10px')])]\n",
    "    }"
   ]
  },
  {
   "cell_type": "code",
   "execution_count": 32,
   "metadata": {},
   "outputs": [
    {
     "data": {
      "text/html": [
       "<style  type=\"text/css\" >\n",
       "    #T_45f9f_ .col0 {\n",
       "          color: green;\n",
       "    }    #T_45f9f_ td.col1 {\n",
       "          color: red;\n",
       "    }    #T_45f9f_ th.col2 {\n",
       "          color: blue;\n",
       "    }    #T_45f9f_ td.col3 {\n",
       "          color: purple;\n",
       "    }    #T_45f9f_ th.col3 {\n",
       "          color: pink;\n",
       "    }    #T_45f9f_ th.col4 {\n",
       "          color: purple;\n",
       "          font-size: 15pt;\n",
       "          border-color: blue;\n",
       "          border-style: solid;\n",
       "    }    #T_45f9f_ td.col4 {\n",
       "          color: purple;\n",
       "          background-color: pink;\n",
       "          font-family: arial black;\n",
       "          border-width: thin;\n",
       "          border-color: blue;\n",
       "          border-style: dotted;\n",
       "          padding: 10px;\n",
       "    }</style><table id=\"T_45f9f_\" ><thead>    <tr>        <th class=\"blank level0\" ></th>        <th class=\"col_heading level0 col0\" >sepal length (cm)</th>        <th class=\"col_heading level0 col1\" >sepal width (cm)</th>        <th class=\"col_heading level0 col2\" >petal length (cm)</th>        <th class=\"col_heading level0 col3\" >petal width (cm)</th>        <th class=\"col_heading level0 col4\" >target</th>    </tr></thead><tbody>\n",
       "                <tr>\n",
       "                        <th id=\"T_45f9f_level0_row0\" class=\"row_heading level0 row0\" >0</th>\n",
       "                        <td id=\"T_45f9f_row0_col0\" class=\"data row0 col0\" >5.100000</td>\n",
       "                        <td id=\"T_45f9f_row0_col1\" class=\"data row0 col1\" >3.500000</td>\n",
       "                        <td id=\"T_45f9f_row0_col2\" class=\"data row0 col2\" >nan</td>\n",
       "                        <td id=\"T_45f9f_row0_col3\" class=\"data row0 col3\" >0.200000</td>\n",
       "                        <td id=\"T_45f9f_row0_col4\" class=\"data row0 col4\" >0.000000</td>\n",
       "            </tr>\n",
       "            <tr>\n",
       "                        <th id=\"T_45f9f_level0_row1\" class=\"row_heading level0 row1\" >1</th>\n",
       "                        <td id=\"T_45f9f_row1_col0\" class=\"data row1 col0\" >4.900000</td>\n",
       "                        <td id=\"T_45f9f_row1_col1\" class=\"data row1 col1\" >3.000000</td>\n",
       "                        <td id=\"T_45f9f_row1_col2\" class=\"data row1 col2\" >1.400000</td>\n",
       "                        <td id=\"T_45f9f_row1_col3\" class=\"data row1 col3\" >0.200000</td>\n",
       "                        <td id=\"T_45f9f_row1_col4\" class=\"data row1 col4\" >0.000000</td>\n",
       "            </tr>\n",
       "            <tr>\n",
       "                        <th id=\"T_45f9f_level0_row2\" class=\"row_heading level0 row2\" >2</th>\n",
       "                        <td id=\"T_45f9f_row2_col0\" class=\"data row2 col0\" >4.700000</td>\n",
       "                        <td id=\"T_45f9f_row2_col1\" class=\"data row2 col1\" >3.200000</td>\n",
       "                        <td id=\"T_45f9f_row2_col2\" class=\"data row2 col2\" >1.300000</td>\n",
       "                        <td id=\"T_45f9f_row2_col3\" class=\"data row2 col3\" >0.200000</td>\n",
       "                        <td id=\"T_45f9f_row2_col4\" class=\"data row2 col4\" >0.000000</td>\n",
       "            </tr>\n",
       "            <tr>\n",
       "                        <th id=\"T_45f9f_level0_row3\" class=\"row_heading level0 row3\" >3</th>\n",
       "                        <td id=\"T_45f9f_row3_col0\" class=\"data row3 col0\" >4.600000</td>\n",
       "                        <td id=\"T_45f9f_row3_col1\" class=\"data row3 col1\" >3.100000</td>\n",
       "                        <td id=\"T_45f9f_row3_col2\" class=\"data row3 col2\" >1.500000</td>\n",
       "                        <td id=\"T_45f9f_row3_col3\" class=\"data row3 col3\" >nan</td>\n",
       "                        <td id=\"T_45f9f_row3_col4\" class=\"data row3 col4\" >0.000000</td>\n",
       "            </tr>\n",
       "            <tr>\n",
       "                        <th id=\"T_45f9f_level0_row4\" class=\"row_heading level0 row4\" >4</th>\n",
       "                        <td id=\"T_45f9f_row4_col0\" class=\"data row4 col0\" >5.000000</td>\n",
       "                        <td id=\"T_45f9f_row4_col1\" class=\"data row4 col1\" >3.600000</td>\n",
       "                        <td id=\"T_45f9f_row4_col2\" class=\"data row4 col2\" >1.400000</td>\n",
       "                        <td id=\"T_45f9f_row4_col3\" class=\"data row4 col3\" >0.200000</td>\n",
       "                        <td id=\"T_45f9f_row4_col4\" class=\"data row4 col4\" >0.000000</td>\n",
       "            </tr>\n",
       "            <tr>\n",
       "                        <th id=\"T_45f9f_level0_row5\" class=\"row_heading level0 row5\" >5</th>\n",
       "                        <td id=\"T_45f9f_row5_col0\" class=\"data row5 col0\" >5.400000</td>\n",
       "                        <td id=\"T_45f9f_row5_col1\" class=\"data row5 col1\" >3.900000</td>\n",
       "                        <td id=\"T_45f9f_row5_col2\" class=\"data row5 col2\" >1.700000</td>\n",
       "                        <td id=\"T_45f9f_row5_col3\" class=\"data row5 col3\" >0.400000</td>\n",
       "                        <td id=\"T_45f9f_row5_col4\" class=\"data row5 col4\" >0.000000</td>\n",
       "            </tr>\n",
       "            <tr>\n",
       "                        <th id=\"T_45f9f_level0_row6\" class=\"row_heading level0 row6\" >6</th>\n",
       "                        <td id=\"T_45f9f_row6_col0\" class=\"data row6 col0\" >4.600000</td>\n",
       "                        <td id=\"T_45f9f_row6_col1\" class=\"data row6 col1\" >3.400000</td>\n",
       "                        <td id=\"T_45f9f_row6_col2\" class=\"data row6 col2\" >1.400000</td>\n",
       "                        <td id=\"T_45f9f_row6_col3\" class=\"data row6 col3\" >0.300000</td>\n",
       "                        <td id=\"T_45f9f_row6_col4\" class=\"data row6 col4\" >0.000000</td>\n",
       "            </tr>\n",
       "            <tr>\n",
       "                        <th id=\"T_45f9f_level0_row7\" class=\"row_heading level0 row7\" >7</th>\n",
       "                        <td id=\"T_45f9f_row7_col0\" class=\"data row7 col0\" >5.000000</td>\n",
       "                        <td id=\"T_45f9f_row7_col1\" class=\"data row7 col1\" >3.400000</td>\n",
       "                        <td id=\"T_45f9f_row7_col2\" class=\"data row7 col2\" >1.500000</td>\n",
       "                        <td id=\"T_45f9f_row7_col3\" class=\"data row7 col3\" >0.200000</td>\n",
       "                        <td id=\"T_45f9f_row7_col4\" class=\"data row7 col4\" >0.000000</td>\n",
       "            </tr>\n",
       "            <tr>\n",
       "                        <th id=\"T_45f9f_level0_row8\" class=\"row_heading level0 row8\" >8</th>\n",
       "                        <td id=\"T_45f9f_row8_col0\" class=\"data row8 col0\" >4.400000</td>\n",
       "                        <td id=\"T_45f9f_row8_col1\" class=\"data row8 col1\" >2.900000</td>\n",
       "                        <td id=\"T_45f9f_row8_col2\" class=\"data row8 col2\" >1.400000</td>\n",
       "                        <td id=\"T_45f9f_row8_col3\" class=\"data row8 col3\" >0.200000</td>\n",
       "                        <td id=\"T_45f9f_row8_col4\" class=\"data row8 col4\" >0.000000</td>\n",
       "            </tr>\n",
       "            <tr>\n",
       "                        <th id=\"T_45f9f_level0_row9\" class=\"row_heading level0 row9\" >9</th>\n",
       "                        <td id=\"T_45f9f_row9_col0\" class=\"data row9 col0\" >4.900000</td>\n",
       "                        <td id=\"T_45f9f_row9_col1\" class=\"data row9 col1\" >3.100000</td>\n",
       "                        <td id=\"T_45f9f_row9_col2\" class=\"data row9 col2\" >1.500000</td>\n",
       "                        <td id=\"T_45f9f_row9_col3\" class=\"data row9 col3\" >0.100000</td>\n",
       "                        <td id=\"T_45f9f_row9_col4\" class=\"data row9 col4\" >0.000000</td>\n",
       "            </tr>\n",
       "    </tbody></table>"
      ],
      "text/plain": [
       "<pandas.io.formats.style.Styler at 0x2e42a4bad88>"
      ]
     },
     "execution_count": 32,
     "metadata": {},
     "output_type": "execute_result"
    }
   ],
   "source": [
    "iris.head(10).style.set_table_styles(my_style)"
   ]
  },
  {
   "cell_type": "code",
   "execution_count": 33,
   "metadata": {},
   "outputs": [
    {
     "data": {
      "text/plain": [
       "['<style  type=\"text/css\" >',\n",
       " '#T_b610c_row0_col0,#T_b610c_row0_col1,#T_b610c_row0_col3,#T_b610c_row1_col0,#T_b610c_row1_col2,#T_b610c_row1_col3,#T_b610c_row2_col3,#T_b610c_row3_col2,#T_b610c_row4_col0,#T_b610c_row4_col1,#T_b610c_row4_col2,#T_b610c_row4_col3,#T_b610c_row5_col0,#T_b610c_row5_col1,#T_b610c_row5_col2,#T_b610c_row5_col3,#T_b610c_row6_col1,#T_b610c_row6_col2,#T_b610c_row6_col3,#T_b610c_row7_col0,#T_b610c_row7_col1,#T_b610c_row7_col2,#T_b610c_row7_col3,#T_b610c_row8_col2,#T_b610c_row8_col3,#T_b610c_row9_col0,#T_b610c_row9_col2{',\n",
       " '            color:  blue;',\n",
       " '            color:  blue;',\n",
       " '            color:  blue;',\n",
       " '        }</style><table id=\"T_b610c_\" ><caption>My Table</caption><thead>    <tr>        <th class=\"col_heading level0 col0\" >sepal length (cm)</th>        <th class=\"col_heading level0 col1\" >sepal width (cm)</th>        <th class=\"col_heading level0 col2\" >petal length (cm)</th>        <th class=\"col_heading level0 col3\" >petal width (cm)</th>    </tr></thead><tbody>',\n",
       " '                <tr>',\n",
       " '                                <td id=\"T_b610c_row0_col0\" class=\"data row0 col0\" >5.10</td>',\n",
       " '                        <td id=\"T_b610c_row0_col1\" class=\"data row0 col1\" >3.50</td>',\n",
       " '                        <td id=\"T_b610c_row0_col2\" class=\"data row0 col2\" >-</td>',\n",
       " '                        <td id=\"T_b610c_row0_col3\" class=\"data row0 col3\" >0.20</td>',\n",
       " '                    </tr>',\n",
       " '            <tr>',\n",
       " '                                <td id=\"T_b610c_row1_col0\" class=\"data row1 col0\" >4.90</td>',\n",
       " '                        <td id=\"T_b610c_row1_col1\" class=\"data row1 col1\" >3.00</td>',\n",
       " '                        <td id=\"T_b610c_row1_col2\" class=\"data row1 col2\" >1.40</td>',\n",
       " '                        <td id=\"T_b610c_row1_col3\" class=\"data row1 col3\" >0.20</td>',\n",
       " '                    </tr>',\n",
       " '            <tr>',\n",
       " '                                <td id=\"T_b610c_row2_col0\" class=\"data row2 col0\" >4.70</td>']"
      ]
     },
     "execution_count": 33,
     "metadata": {},
     "output_type": "execute_result"
    }
   ],
   "source": [
    "iris_median.render().split('\\n')[:20]"
   ]
  },
  {
   "cell_type": "code",
   "execution_count": 34,
   "metadata": {},
   "outputs": [],
   "source": [
    "def hover(hover_color=\"#ffff99\"):\n",
    "    return dict(selector=\"tr:hover\",\n",
    "                props=[(\"background-color\", \"%s\" % hover_color)])\n",
    "\n",
    "styles = [\n",
    "    hover(),\n",
    "    dict(selector=\"th\", props=[(\"font-size\", \"100%\"),\n",
    "                               (\"text-align\", \"center\")]),\n",
    "    dict(selector=\"caption\", props=[(\"caption-side\", \"bottom\")])\n",
    "]"
   ]
  },
  {
   "cell_type": "code",
   "execution_count": 35,
   "metadata": {},
   "outputs": [
    {
     "data": {
      "text/html": [
       "<style  type=\"text/css\" >\n",
       "    #T_88517_ tr:hover {\n",
       "          background-color: #ffff99;\n",
       "    }    #T_88517_ th {\n",
       "          font-size: 100%;\n",
       "          text-align: center;\n",
       "    }    #T_88517_ caption {\n",
       "          caption-side: bottom;\n",
       "    }</style><table id=\"T_88517_\" ><thead>    <tr>        <th class=\"blank level0\" ></th>        <th class=\"col_heading level0 col0\" >sepal length (cm)</th>        <th class=\"col_heading level0 col1\" >sepal width (cm)</th>        <th class=\"col_heading level0 col2\" >petal length (cm)</th>        <th class=\"col_heading level0 col3\" >petal width (cm)</th>        <th class=\"col_heading level0 col4\" >target</th>    </tr></thead><tbody>\n",
       "                <tr>\n",
       "                        <th id=\"T_88517_level0_row0\" class=\"row_heading level0 row0\" >0</th>\n",
       "                        <td id=\"T_88517_row0_col0\" class=\"data row0 col0\" >5.100000</td>\n",
       "                        <td id=\"T_88517_row0_col1\" class=\"data row0 col1\" >3.500000</td>\n",
       "                        <td id=\"T_88517_row0_col2\" class=\"data row0 col2\" >nan</td>\n",
       "                        <td id=\"T_88517_row0_col3\" class=\"data row0 col3\" >0.200000</td>\n",
       "                        <td id=\"T_88517_row0_col4\" class=\"data row0 col4\" >0.000000</td>\n",
       "            </tr>\n",
       "            <tr>\n",
       "                        <th id=\"T_88517_level0_row1\" class=\"row_heading level0 row1\" >1</th>\n",
       "                        <td id=\"T_88517_row1_col0\" class=\"data row1 col0\" >4.900000</td>\n",
       "                        <td id=\"T_88517_row1_col1\" class=\"data row1 col1\" >3.000000</td>\n",
       "                        <td id=\"T_88517_row1_col2\" class=\"data row1 col2\" >1.400000</td>\n",
       "                        <td id=\"T_88517_row1_col3\" class=\"data row1 col3\" >0.200000</td>\n",
       "                        <td id=\"T_88517_row1_col4\" class=\"data row1 col4\" >0.000000</td>\n",
       "            </tr>\n",
       "            <tr>\n",
       "                        <th id=\"T_88517_level0_row2\" class=\"row_heading level0 row2\" >2</th>\n",
       "                        <td id=\"T_88517_row2_col0\" class=\"data row2 col0\" >4.700000</td>\n",
       "                        <td id=\"T_88517_row2_col1\" class=\"data row2 col1\" >3.200000</td>\n",
       "                        <td id=\"T_88517_row2_col2\" class=\"data row2 col2\" >1.300000</td>\n",
       "                        <td id=\"T_88517_row2_col3\" class=\"data row2 col3\" >0.200000</td>\n",
       "                        <td id=\"T_88517_row2_col4\" class=\"data row2 col4\" >0.000000</td>\n",
       "            </tr>\n",
       "            <tr>\n",
       "                        <th id=\"T_88517_level0_row3\" class=\"row_heading level0 row3\" >3</th>\n",
       "                        <td id=\"T_88517_row3_col0\" class=\"data row3 col0\" >4.600000</td>\n",
       "                        <td id=\"T_88517_row3_col1\" class=\"data row3 col1\" >3.100000</td>\n",
       "                        <td id=\"T_88517_row3_col2\" class=\"data row3 col2\" >1.500000</td>\n",
       "                        <td id=\"T_88517_row3_col3\" class=\"data row3 col3\" >nan</td>\n",
       "                        <td id=\"T_88517_row3_col4\" class=\"data row3 col4\" >0.000000</td>\n",
       "            </tr>\n",
       "            <tr>\n",
       "                        <th id=\"T_88517_level0_row4\" class=\"row_heading level0 row4\" >4</th>\n",
       "                        <td id=\"T_88517_row4_col0\" class=\"data row4 col0\" >5.000000</td>\n",
       "                        <td id=\"T_88517_row4_col1\" class=\"data row4 col1\" >3.600000</td>\n",
       "                        <td id=\"T_88517_row4_col2\" class=\"data row4 col2\" >1.400000</td>\n",
       "                        <td id=\"T_88517_row4_col3\" class=\"data row4 col3\" >0.200000</td>\n",
       "                        <td id=\"T_88517_row4_col4\" class=\"data row4 col4\" >0.000000</td>\n",
       "            </tr>\n",
       "            <tr>\n",
       "                        <th id=\"T_88517_level0_row5\" class=\"row_heading level0 row5\" >5</th>\n",
       "                        <td id=\"T_88517_row5_col0\" class=\"data row5 col0\" >5.400000</td>\n",
       "                        <td id=\"T_88517_row5_col1\" class=\"data row5 col1\" >3.900000</td>\n",
       "                        <td id=\"T_88517_row5_col2\" class=\"data row5 col2\" >1.700000</td>\n",
       "                        <td id=\"T_88517_row5_col3\" class=\"data row5 col3\" >0.400000</td>\n",
       "                        <td id=\"T_88517_row5_col4\" class=\"data row5 col4\" >0.000000</td>\n",
       "            </tr>\n",
       "            <tr>\n",
       "                        <th id=\"T_88517_level0_row6\" class=\"row_heading level0 row6\" >6</th>\n",
       "                        <td id=\"T_88517_row6_col0\" class=\"data row6 col0\" >4.600000</td>\n",
       "                        <td id=\"T_88517_row6_col1\" class=\"data row6 col1\" >3.400000</td>\n",
       "                        <td id=\"T_88517_row6_col2\" class=\"data row6 col2\" >1.400000</td>\n",
       "                        <td id=\"T_88517_row6_col3\" class=\"data row6 col3\" >0.300000</td>\n",
       "                        <td id=\"T_88517_row6_col4\" class=\"data row6 col4\" >0.000000</td>\n",
       "            </tr>\n",
       "            <tr>\n",
       "                        <th id=\"T_88517_level0_row7\" class=\"row_heading level0 row7\" >7</th>\n",
       "                        <td id=\"T_88517_row7_col0\" class=\"data row7 col0\" >5.000000</td>\n",
       "                        <td id=\"T_88517_row7_col1\" class=\"data row7 col1\" >3.400000</td>\n",
       "                        <td id=\"T_88517_row7_col2\" class=\"data row7 col2\" >1.500000</td>\n",
       "                        <td id=\"T_88517_row7_col3\" class=\"data row7 col3\" >0.200000</td>\n",
       "                        <td id=\"T_88517_row7_col4\" class=\"data row7 col4\" >0.000000</td>\n",
       "            </tr>\n",
       "            <tr>\n",
       "                        <th id=\"T_88517_level0_row8\" class=\"row_heading level0 row8\" >8</th>\n",
       "                        <td id=\"T_88517_row8_col0\" class=\"data row8 col0\" >4.400000</td>\n",
       "                        <td id=\"T_88517_row8_col1\" class=\"data row8 col1\" >2.900000</td>\n",
       "                        <td id=\"T_88517_row8_col2\" class=\"data row8 col2\" >1.400000</td>\n",
       "                        <td id=\"T_88517_row8_col3\" class=\"data row8 col3\" >0.200000</td>\n",
       "                        <td id=\"T_88517_row8_col4\" class=\"data row8 col4\" >0.000000</td>\n",
       "            </tr>\n",
       "            <tr>\n",
       "                        <th id=\"T_88517_level0_row9\" class=\"row_heading level0 row9\" >9</th>\n",
       "                        <td id=\"T_88517_row9_col0\" class=\"data row9 col0\" >4.900000</td>\n",
       "                        <td id=\"T_88517_row9_col1\" class=\"data row9 col1\" >3.100000</td>\n",
       "                        <td id=\"T_88517_row9_col2\" class=\"data row9 col2\" >1.500000</td>\n",
       "                        <td id=\"T_88517_row9_col3\" class=\"data row9 col3\" >0.100000</td>\n",
       "                        <td id=\"T_88517_row9_col4\" class=\"data row9 col4\" >0.000000</td>\n",
       "            </tr>\n",
       "    </tbody></table>"
      ],
      "text/plain": [
       "<pandas.io.formats.style.Styler at 0x2e429cd1d88>"
      ]
     },
     "execution_count": 35,
     "metadata": {},
     "output_type": "execute_result"
    }
   ],
   "source": [
    "iris.head(10).style.set_table_styles(styles)"
   ]
  },
  {
   "cell_type": "code",
   "execution_count": 36,
   "metadata": {},
   "outputs": [],
   "source": [
    "def magnify():\n",
    "    return [dict(selector=\"th\",\n",
    "                 props=[(\"font-size\", \"5pt\")]),\n",
    "            dict(selector=\"td\",\n",
    "                 props=[('padding', \"0em 0em\")]),\n",
    "            dict(selector=\"th:hover\",\n",
    "                 props=[(\"font-size\", \"12pt\")]),\n",
    "            dict(selector=\"tr:hover td:hover\",\n",
    "                 props=[('max-width', '200px'),\n",
    "                        ('font-size', '12pt')])\n",
    "]"
   ]
  },
  {
   "cell_type": "code",
   "execution_count": 37,
   "metadata": {},
   "outputs": [
    {
     "data": {
      "text/html": [
       "<style  type=\"text/css\" >\n",
       "    #T_47e42_ th {\n",
       "          font-size: 5pt;\n",
       "    }    #T_47e42_ td {\n",
       "          padding: 0em 0em;\n",
       "    }    #T_47e42_ th:hover {\n",
       "          font-size: 12pt;\n",
       "    }    #T_47e42_ tr:hover td:hover {\n",
       "          max-width: 200px;\n",
       "          font-size: 12pt;\n",
       "    }#T_47e42_row0_col0,#T_47e42_row4_col1{\n",
       "            background-color:  #187cb6;\n",
       "            color:  #000000;\n",
       "            max-width:  500px;\n",
       "            font-size:  0pt;\n",
       "        }#T_47e42_row0_col1,#T_47e42_row4_col0,#T_47e42_row7_col0{\n",
       "            background-color:  #4295c3;\n",
       "            color:  #000000;\n",
       "            max-width:  500px;\n",
       "            font-size:  0pt;\n",
       "        }#T_47e42_row0_col2,#T_47e42_row3_col3{\n",
       "            background-color:  #000000;\n",
       "            color:  #f1f1f1;\n",
       "            max-width:  500px;\n",
       "            font-size:  0pt;\n",
       "        }#T_47e42_row0_col3,#T_47e42_row1_col3,#T_47e42_row2_col3,#T_47e42_row4_col3,#T_47e42_row7_col3,#T_47e42_row8_col3{\n",
       "            background-color:  #b4c4df;\n",
       "            color:  #000000;\n",
       "            max-width:  500px;\n",
       "            font-size:  0pt;\n",
       "        }#T_47e42_row0_col4,#T_47e42_row1_col4,#T_47e42_row2_col2,#T_47e42_row2_col4,#T_47e42_row3_col4,#T_47e42_row4_col4,#T_47e42_row5_col4,#T_47e42_row6_col4,#T_47e42_row7_col4,#T_47e42_row8_col0,#T_47e42_row8_col1,#T_47e42_row8_col4,#T_47e42_row9_col3,#T_47e42_row9_col4{\n",
       "            background-color:  #fff7fb;\n",
       "            color:  #000000;\n",
       "            max-width:  500px;\n",
       "            font-size:  0pt;\n",
       "        }#T_47e42_row1_col0,#T_47e42_row3_col2,#T_47e42_row6_col1,#T_47e42_row7_col1,#T_47e42_row7_col2,#T_47e42_row9_col0,#T_47e42_row9_col2{\n",
       "            background-color:  #73a9cf;\n",
       "            color:  #000000;\n",
       "            max-width:  500px;\n",
       "            font-size:  0pt;\n",
       "        }#T_47e42_row1_col1{\n",
       "            background-color:  #f0eaf4;\n",
       "            color:  #000000;\n",
       "            max-width:  500px;\n",
       "            font-size:  0pt;\n",
       "        }#T_47e42_row1_col2,#T_47e42_row4_col2,#T_47e42_row6_col2,#T_47e42_row8_col2{\n",
       "            background-color:  #d1d2e6;\n",
       "            color:  #000000;\n",
       "            max-width:  500px;\n",
       "            font-size:  0pt;\n",
       "        }#T_47e42_row2_col0,#T_47e42_row2_col1{\n",
       "            background-color:  #c0c9e2;\n",
       "            color:  #000000;\n",
       "            max-width:  500px;\n",
       "            font-size:  0pt;\n",
       "        }#T_47e42_row3_col0,#T_47e42_row3_col1,#T_47e42_row6_col0,#T_47e42_row9_col1{\n",
       "            background-color:  #dbdaeb;\n",
       "            color:  #000000;\n",
       "            max-width:  500px;\n",
       "            font-size:  0pt;\n",
       "        }#T_47e42_row5_col0,#T_47e42_row5_col1,#T_47e42_row5_col2,#T_47e42_row5_col3{\n",
       "            background-color:  #023858;\n",
       "            color:  #f1f1f1;\n",
       "            max-width:  500px;\n",
       "            font-size:  0pt;\n",
       "        }#T_47e42_row6_col3{\n",
       "            background-color:  #2685bb;\n",
       "            color:  #000000;\n",
       "            max-width:  500px;\n",
       "            font-size:  0pt;\n",
       "        }</style><table id=\"T_47e42_\" ><caption>Hover to magnify</caption><thead>    <tr>        <th class=\"blank level0\" ></th>        <th class=\"col_heading level0 col0\" >sepal length (cm)</th>        <th class=\"col_heading level0 col1\" >sepal width (cm)</th>        <th class=\"col_heading level0 col2\" >petal length (cm)</th>        <th class=\"col_heading level0 col3\" >petal width (cm)</th>        <th class=\"col_heading level0 col4\" >target</th>    </tr></thead><tbody>\n",
       "                <tr>\n",
       "                        <th id=\"T_47e42_level0_row0\" class=\"row_heading level0 row0\" >0</th>\n",
       "                        <td id=\"T_47e42_row0_col0\" class=\"data row0 col0\" >5.10</td>\n",
       "                        <td id=\"T_47e42_row0_col1\" class=\"data row0 col1\" >3.50</td>\n",
       "                        <td id=\"T_47e42_row0_col2\" class=\"data row0 col2\" >nan</td>\n",
       "                        <td id=\"T_47e42_row0_col3\" class=\"data row0 col3\" >0.20</td>\n",
       "                        <td id=\"T_47e42_row0_col4\" class=\"data row0 col4\" >0.00</td>\n",
       "            </tr>\n",
       "            <tr>\n",
       "                        <th id=\"T_47e42_level0_row1\" class=\"row_heading level0 row1\" >1</th>\n",
       "                        <td id=\"T_47e42_row1_col0\" class=\"data row1 col0\" >4.90</td>\n",
       "                        <td id=\"T_47e42_row1_col1\" class=\"data row1 col1\" >3.00</td>\n",
       "                        <td id=\"T_47e42_row1_col2\" class=\"data row1 col2\" >1.40</td>\n",
       "                        <td id=\"T_47e42_row1_col3\" class=\"data row1 col3\" >0.20</td>\n",
       "                        <td id=\"T_47e42_row1_col4\" class=\"data row1 col4\" >0.00</td>\n",
       "            </tr>\n",
       "            <tr>\n",
       "                        <th id=\"T_47e42_level0_row2\" class=\"row_heading level0 row2\" >2</th>\n",
       "                        <td id=\"T_47e42_row2_col0\" class=\"data row2 col0\" >4.70</td>\n",
       "                        <td id=\"T_47e42_row2_col1\" class=\"data row2 col1\" >3.20</td>\n",
       "                        <td id=\"T_47e42_row2_col2\" class=\"data row2 col2\" >1.30</td>\n",
       "                        <td id=\"T_47e42_row2_col3\" class=\"data row2 col3\" >0.20</td>\n",
       "                        <td id=\"T_47e42_row2_col4\" class=\"data row2 col4\" >0.00</td>\n",
       "            </tr>\n",
       "            <tr>\n",
       "                        <th id=\"T_47e42_level0_row3\" class=\"row_heading level0 row3\" >3</th>\n",
       "                        <td id=\"T_47e42_row3_col0\" class=\"data row3 col0\" >4.60</td>\n",
       "                        <td id=\"T_47e42_row3_col1\" class=\"data row3 col1\" >3.10</td>\n",
       "                        <td id=\"T_47e42_row3_col2\" class=\"data row3 col2\" >1.50</td>\n",
       "                        <td id=\"T_47e42_row3_col3\" class=\"data row3 col3\" >nan</td>\n",
       "                        <td id=\"T_47e42_row3_col4\" class=\"data row3 col4\" >0.00</td>\n",
       "            </tr>\n",
       "            <tr>\n",
       "                        <th id=\"T_47e42_level0_row4\" class=\"row_heading level0 row4\" >4</th>\n",
       "                        <td id=\"T_47e42_row4_col0\" class=\"data row4 col0\" >5.00</td>\n",
       "                        <td id=\"T_47e42_row4_col1\" class=\"data row4 col1\" >3.60</td>\n",
       "                        <td id=\"T_47e42_row4_col2\" class=\"data row4 col2\" >1.40</td>\n",
       "                        <td id=\"T_47e42_row4_col3\" class=\"data row4 col3\" >0.20</td>\n",
       "                        <td id=\"T_47e42_row4_col4\" class=\"data row4 col4\" >0.00</td>\n",
       "            </tr>\n",
       "            <tr>\n",
       "                        <th id=\"T_47e42_level0_row5\" class=\"row_heading level0 row5\" >5</th>\n",
       "                        <td id=\"T_47e42_row5_col0\" class=\"data row5 col0\" >5.40</td>\n",
       "                        <td id=\"T_47e42_row5_col1\" class=\"data row5 col1\" >3.90</td>\n",
       "                        <td id=\"T_47e42_row5_col2\" class=\"data row5 col2\" >1.70</td>\n",
       "                        <td id=\"T_47e42_row5_col3\" class=\"data row5 col3\" >0.40</td>\n",
       "                        <td id=\"T_47e42_row5_col4\" class=\"data row5 col4\" >0.00</td>\n",
       "            </tr>\n",
       "            <tr>\n",
       "                        <th id=\"T_47e42_level0_row6\" class=\"row_heading level0 row6\" >6</th>\n",
       "                        <td id=\"T_47e42_row6_col0\" class=\"data row6 col0\" >4.60</td>\n",
       "                        <td id=\"T_47e42_row6_col1\" class=\"data row6 col1\" >3.40</td>\n",
       "                        <td id=\"T_47e42_row6_col2\" class=\"data row6 col2\" >1.40</td>\n",
       "                        <td id=\"T_47e42_row6_col3\" class=\"data row6 col3\" >0.30</td>\n",
       "                        <td id=\"T_47e42_row6_col4\" class=\"data row6 col4\" >0.00</td>\n",
       "            </tr>\n",
       "            <tr>\n",
       "                        <th id=\"T_47e42_level0_row7\" class=\"row_heading level0 row7\" >7</th>\n",
       "                        <td id=\"T_47e42_row7_col0\" class=\"data row7 col0\" >5.00</td>\n",
       "                        <td id=\"T_47e42_row7_col1\" class=\"data row7 col1\" >3.40</td>\n",
       "                        <td id=\"T_47e42_row7_col2\" class=\"data row7 col2\" >1.50</td>\n",
       "                        <td id=\"T_47e42_row7_col3\" class=\"data row7 col3\" >0.20</td>\n",
       "                        <td id=\"T_47e42_row7_col4\" class=\"data row7 col4\" >0.00</td>\n",
       "            </tr>\n",
       "            <tr>\n",
       "                        <th id=\"T_47e42_level0_row8\" class=\"row_heading level0 row8\" >8</th>\n",
       "                        <td id=\"T_47e42_row8_col0\" class=\"data row8 col0\" >4.40</td>\n",
       "                        <td id=\"T_47e42_row8_col1\" class=\"data row8 col1\" >2.90</td>\n",
       "                        <td id=\"T_47e42_row8_col2\" class=\"data row8 col2\" >1.40</td>\n",
       "                        <td id=\"T_47e42_row8_col3\" class=\"data row8 col3\" >0.20</td>\n",
       "                        <td id=\"T_47e42_row8_col4\" class=\"data row8 col4\" >0.00</td>\n",
       "            </tr>\n",
       "            <tr>\n",
       "                        <th id=\"T_47e42_level0_row9\" class=\"row_heading level0 row9\" >9</th>\n",
       "                        <td id=\"T_47e42_row9_col0\" class=\"data row9 col0\" >4.90</td>\n",
       "                        <td id=\"T_47e42_row9_col1\" class=\"data row9 col1\" >3.10</td>\n",
       "                        <td id=\"T_47e42_row9_col2\" class=\"data row9 col2\" >1.50</td>\n",
       "                        <td id=\"T_47e42_row9_col3\" class=\"data row9 col3\" >0.10</td>\n",
       "                        <td id=\"T_47e42_row9_col4\" class=\"data row9 col4\" >0.00</td>\n",
       "            </tr>\n",
       "    </tbody></table>"
      ],
      "text/plain": [
       "<pandas.io.formats.style.Styler at 0x2e42a4d6c88>"
      ]
     },
     "execution_count": 37,
     "metadata": {},
     "output_type": "execute_result"
    }
   ],
   "source": [
    "iris.head(10).style.background_gradient( axis=0)\\\n",
    "    .set_properties(**{'max-width': '500px', 'font-size': '0pt'})\\\n",
    "    .set_caption(\"Hover to magnify\")\\\n",
    "    .set_precision(2)\\\n",
    "    .set_table_styles(magnify())"
   ]
  },
  {
   "cell_type": "markdown",
   "metadata": {},
   "source": [
    "### Usar el estilo de un DF como mask"
   ]
  },
  {
   "cell_type": "code",
   "execution_count": 47,
   "metadata": {},
   "outputs": [
    {
     "data": {
      "text/plain": [
       "defaultdict(list,\n",
       "            {(0, 0): ['background-color: #FF5733',\n",
       "              'background-color: #FF5733'],\n",
       "             (1, 0): ['background-color: yellow', 'background-color: yellow'],\n",
       "             (2, 0): ['background-color: #50BA0A',\n",
       "              'background-color: #50BA0A'],\n",
       "             (0, 1): ['background-color: #50BA0A',\n",
       "              'background-color: #50BA0A'],\n",
       "             (1, 1): ['background-color: #FF5733',\n",
       "              'background-color: #FF5733'],\n",
       "             (2, 1): ['background-color: #FF5733',\n",
       "              'background-color: #FF5733'],\n",
       "             (0, 2): ['background-color: #FF5733',\n",
       "              'background-color: #FF5733'],\n",
       "             (1, 2): ['background-color: #50BA0A',\n",
       "              'background-color: #50BA0A'],\n",
       "             (2, 2): ['background-color: #50BA0A',\n",
       "              'background-color: #50BA0A'],\n",
       "             (0, 3): ['background-color: #FF5733',\n",
       "              'background-color: #FF5733'],\n",
       "             (1, 3): ['background-color: yellow', 'background-color: yellow'],\n",
       "             (2, 3): ['background-color: #50BA0A',\n",
       "              'background-color: #50BA0A']})"
      ]
     },
     "execution_count": 47,
     "metadata": {},
     "output_type": "execute_result"
    }
   ],
   "source": [
    "iris_cut_colors.ctx"
   ]
  },
  {
   "cell_type": "code",
   "execution_count": 38,
   "metadata": {},
   "outputs": [
    {
     "data": {
      "text/html": [
       "<style  type=\"text/css\" >\n",
       "#T_8d564_row0_col0,#T_8d564_row0_col2,#T_8d564_row0_col3,#T_8d564_row1_col1,#T_8d564_row2_col1{\n",
       "            background-color:  #FF5733;\n",
       "            background-color:  #FF5733;\n",
       "        }#T_8d564_row0_col1,#T_8d564_row1_col2,#T_8d564_row2_col0,#T_8d564_row2_col2,#T_8d564_row2_col3{\n",
       "            background-color:  #50BA0A;\n",
       "            background-color:  #50BA0A;\n",
       "        }#T_8d564_row1_col0,#T_8d564_row1_col3{\n",
       "            background-color:  yellow;\n",
       "            background-color:  yellow;\n",
       "        }</style><table id=\"T_8d564_\" ><thead>    <tr>        <th class=\"blank level0\" ></th>        <th class=\"col_heading level0 col0\" >sepal length (cm)</th>        <th class=\"col_heading level0 col1\" >sepal width (cm)</th>        <th class=\"col_heading level0 col2\" >petal length (cm)</th>        <th class=\"col_heading level0 col3\" >petal width (cm)</th>    </tr>    <tr>        <th class=\"index_name level0\" >target</th>        <th class=\"blank\" ></th>        <th class=\"blank\" ></th>        <th class=\"blank\" ></th>        <th class=\"blank\" ></th>    </tr></thead><tbody>\n",
       "                <tr>\n",
       "                        <th id=\"T_8d564_level0_row0\" class=\"row_heading level0 row0\" >0.0</th>\n",
       "                        <td id=\"T_8d564_row0_col0\" class=\"data row0 col0\" >5.006000</td>\n",
       "                        <td id=\"T_8d564_row0_col1\" class=\"data row0 col1\" >3.428000</td>\n",
       "                        <td id=\"T_8d564_row0_col2\" class=\"data row0 col2\" >1.463265</td>\n",
       "                        <td id=\"T_8d564_row0_col3\" class=\"data row0 col3\" >0.246939</td>\n",
       "            </tr>\n",
       "            <tr>\n",
       "                        <th id=\"T_8d564_level0_row1\" class=\"row_heading level0 row1\" >1.0</th>\n",
       "                        <td id=\"T_8d564_row1_col0\" class=\"data row1 col0\" >5.936000</td>\n",
       "                        <td id=\"T_8d564_row1_col1\" class=\"data row1 col1\" >2.770000</td>\n",
       "                        <td id=\"T_8d564_row1_col2\" class=\"data row1 col2\" >4.260000</td>\n",
       "                        <td id=\"T_8d564_row1_col3\" class=\"data row1 col3\" >1.326000</td>\n",
       "            </tr>\n",
       "            <tr>\n",
       "                        <th id=\"T_8d564_level0_row2\" class=\"row_heading level0 row2\" >2.0</th>\n",
       "                        <td id=\"T_8d564_row2_col0\" class=\"data row2 col0\" >6.588000</td>\n",
       "                        <td id=\"T_8d564_row2_col1\" class=\"data row2 col1\" >2.974000</td>\n",
       "                        <td id=\"T_8d564_row2_col2\" class=\"data row2 col2\" >5.552000</td>\n",
       "                        <td id=\"T_8d564_row2_col3\" class=\"data row2 col3\" >2.026000</td>\n",
       "            </tr>\n",
       "    </tbody></table>"
      ],
      "text/plain": [
       "<pandas.io.formats.style.Styler at 0x2e42a4da6c8>"
      ]
     },
     "execution_count": 38,
     "metadata": {},
     "output_type": "execute_result"
    }
   ],
   "source": [
    "iris_mean_colors = group.style\n",
    "iris_mean_colors.ctx = iris_cut_colors.ctx\n",
    "iris_mean_colors"
   ]
  },
  {
   "cell_type": "code",
   "execution_count": 39,
   "metadata": {},
   "outputs": [
    {
     "data": {
      "text/html": [
       "<div>\n",
       "<style scoped>\n",
       "    .dataframe tbody tr th:only-of-type {\n",
       "        vertical-align: middle;\n",
       "    }\n",
       "\n",
       "    .dataframe tbody tr th {\n",
       "        vertical-align: top;\n",
       "    }\n",
       "\n",
       "    .dataframe thead tr th {\n",
       "        text-align: left;\n",
       "    }\n",
       "\n",
       "    .dataframe thead tr:last-of-type th {\n",
       "        text-align: right;\n",
       "    }\n",
       "</style>\n",
       "<table border=\"1\" class=\"dataframe\">\n",
       "  <thead>\n",
       "    <tr>\n",
       "      <th></th>\n",
       "      <th colspan=\"2\" halign=\"left\">sepal length (cm)</th>\n",
       "      <th colspan=\"2\" halign=\"left\">sepal width (cm)</th>\n",
       "      <th colspan=\"2\" halign=\"left\">petal length (cm)</th>\n",
       "      <th colspan=\"2\" halign=\"left\">petal width (cm)</th>\n",
       "    </tr>\n",
       "    <tr>\n",
       "      <th></th>\n",
       "      <th>mean</th>\n",
       "      <th>std</th>\n",
       "      <th>mean</th>\n",
       "      <th>std</th>\n",
       "      <th>mean</th>\n",
       "      <th>std</th>\n",
       "      <th>mean</th>\n",
       "      <th>std</th>\n",
       "    </tr>\n",
       "    <tr>\n",
       "      <th>target</th>\n",
       "      <th></th>\n",
       "      <th></th>\n",
       "      <th></th>\n",
       "      <th></th>\n",
       "      <th></th>\n",
       "      <th></th>\n",
       "      <th></th>\n",
       "      <th></th>\n",
       "    </tr>\n",
       "  </thead>\n",
       "  <tbody>\n",
       "    <tr>\n",
       "      <th>0.0</th>\n",
       "      <td>5.006</td>\n",
       "      <td>0.352490</td>\n",
       "      <td>3.428</td>\n",
       "      <td>0.379064</td>\n",
       "      <td>1.463265</td>\n",
       "      <td>0.175231</td>\n",
       "      <td>0.246939</td>\n",
       "      <td>0.106266</td>\n",
       "    </tr>\n",
       "    <tr>\n",
       "      <th>1.0</th>\n",
       "      <td>5.936</td>\n",
       "      <td>0.516171</td>\n",
       "      <td>2.770</td>\n",
       "      <td>0.313798</td>\n",
       "      <td>4.260000</td>\n",
       "      <td>0.469911</td>\n",
       "      <td>1.326000</td>\n",
       "      <td>0.197753</td>\n",
       "    </tr>\n",
       "    <tr>\n",
       "      <th>2.0</th>\n",
       "      <td>6.588</td>\n",
       "      <td>0.635880</td>\n",
       "      <td>2.974</td>\n",
       "      <td>0.322497</td>\n",
       "      <td>5.552000</td>\n",
       "      <td>0.551895</td>\n",
       "      <td>2.026000</td>\n",
       "      <td>0.274650</td>\n",
       "    </tr>\n",
       "  </tbody>\n",
       "</table>\n",
       "</div>"
      ],
      "text/plain": [
       "       sepal length (cm)           sepal width (cm)            \\\n",
       "                    mean       std             mean       std   \n",
       "target                                                          \n",
       "0.0                5.006  0.352490            3.428  0.379064   \n",
       "1.0                5.936  0.516171            2.770  0.313798   \n",
       "2.0                6.588  0.635880            2.974  0.322497   \n",
       "\n",
       "       petal length (cm)           petal width (cm)            \n",
       "                    mean       std             mean       std  \n",
       "target                                                         \n",
       "0.0             1.463265  0.175231         0.246939  0.106266  \n",
       "1.0             4.260000  0.469911         1.326000  0.197753  \n",
       "2.0             5.552000  0.551895         2.026000  0.274650  "
      ]
     },
     "execution_count": 39,
     "metadata": {},
     "output_type": "execute_result"
    }
   ],
   "source": [
    "iris_m_s = iris.groupby('target').agg(['mean', 'std'])\n",
    "iris_m_s"
   ]
  },
  {
   "cell_type": "code",
   "execution_count": 40,
   "metadata": {},
   "outputs": [],
   "source": [
    "new_df = pd.DataFrame()\n",
    "for col in iris_m_s.columns.get_level_values(0).unique():\n",
    "    new_df[col] = iris_m_s[col].iloc[:,0].round(3).astype(str) + ' ± ' + iris_m_s[col].iloc[:,1].round(3).astype(str)"
   ]
  },
  {
   "cell_type": "code",
   "execution_count": 41,
   "metadata": {},
   "outputs": [
    {
     "data": {
      "text/html": [
       "<div>\n",
       "<style scoped>\n",
       "    .dataframe tbody tr th:only-of-type {\n",
       "        vertical-align: middle;\n",
       "    }\n",
       "\n",
       "    .dataframe tbody tr th {\n",
       "        vertical-align: top;\n",
       "    }\n",
       "\n",
       "    .dataframe thead th {\n",
       "        text-align: right;\n",
       "    }\n",
       "</style>\n",
       "<table border=\"1\" class=\"dataframe\">\n",
       "  <thead>\n",
       "    <tr style=\"text-align: right;\">\n",
       "      <th></th>\n",
       "      <th>sepal length (cm)</th>\n",
       "      <th>sepal width (cm)</th>\n",
       "      <th>petal length (cm)</th>\n",
       "      <th>petal width (cm)</th>\n",
       "    </tr>\n",
       "    <tr>\n",
       "      <th>target</th>\n",
       "      <th></th>\n",
       "      <th></th>\n",
       "      <th></th>\n",
       "      <th></th>\n",
       "    </tr>\n",
       "  </thead>\n",
       "  <tbody>\n",
       "    <tr>\n",
       "      <th>0.0</th>\n",
       "      <td>5.006 ± 0.352</td>\n",
       "      <td>3.428 ± 0.379</td>\n",
       "      <td>1.463 ± 0.175</td>\n",
       "      <td>0.247 ± 0.106</td>\n",
       "    </tr>\n",
       "    <tr>\n",
       "      <th>1.0</th>\n",
       "      <td>5.936 ± 0.516</td>\n",
       "      <td>2.77 ± 0.314</td>\n",
       "      <td>4.26 ± 0.47</td>\n",
       "      <td>1.326 ± 0.198</td>\n",
       "    </tr>\n",
       "    <tr>\n",
       "      <th>2.0</th>\n",
       "      <td>6.588 ± 0.636</td>\n",
       "      <td>2.974 ± 0.322</td>\n",
       "      <td>5.552 ± 0.552</td>\n",
       "      <td>2.026 ± 0.275</td>\n",
       "    </tr>\n",
       "  </tbody>\n",
       "</table>\n",
       "</div>"
      ],
      "text/plain": [
       "       sepal length (cm) sepal width (cm) petal length (cm) petal width (cm)\n",
       "target                                                                      \n",
       "0.0        5.006 ± 0.352    3.428 ± 0.379     1.463 ± 0.175    0.247 ± 0.106\n",
       "1.0        5.936 ± 0.516     2.77 ± 0.314       4.26 ± 0.47    1.326 ± 0.198\n",
       "2.0        6.588 ± 0.636    2.974 ± 0.322     5.552 ± 0.552    2.026 ± 0.275"
      ]
     },
     "execution_count": 41,
     "metadata": {},
     "output_type": "execute_result"
    }
   ],
   "source": [
    "new_df"
   ]
  },
  {
   "cell_type": "code",
   "execution_count": 42,
   "metadata": {},
   "outputs": [
    {
     "data": {
      "text/html": [
       "<style  type=\"text/css\" >\n",
       "#T_4ab4f_row0_col0,#T_4ab4f_row0_col2,#T_4ab4f_row0_col3,#T_4ab4f_row1_col1,#T_4ab4f_row2_col1{\n",
       "            background-color:  #FF5733;\n",
       "            background-color:  #FF5733;\n",
       "        }#T_4ab4f_row0_col1,#T_4ab4f_row1_col2,#T_4ab4f_row2_col0,#T_4ab4f_row2_col2,#T_4ab4f_row2_col3{\n",
       "            background-color:  #50BA0A;\n",
       "            background-color:  #50BA0A;\n",
       "        }#T_4ab4f_row1_col0,#T_4ab4f_row1_col3{\n",
       "            background-color:  yellow;\n",
       "            background-color:  yellow;\n",
       "        }</style><table id=\"T_4ab4f_\" ><thead>    <tr>        <th class=\"blank level0\" ></th>        <th class=\"col_heading level0 col0\" >sepal length (cm)</th>        <th class=\"col_heading level0 col1\" >sepal width (cm)</th>        <th class=\"col_heading level0 col2\" >petal length (cm)</th>        <th class=\"col_heading level0 col3\" >petal width (cm)</th>    </tr>    <tr>        <th class=\"index_name level0\" >target</th>        <th class=\"blank\" ></th>        <th class=\"blank\" ></th>        <th class=\"blank\" ></th>        <th class=\"blank\" ></th>    </tr></thead><tbody>\n",
       "                <tr>\n",
       "                        <th id=\"T_4ab4f_level0_row0\" class=\"row_heading level0 row0\" >0.0</th>\n",
       "                        <td id=\"T_4ab4f_row0_col0\" class=\"data row0 col0\" >5.006 ± 0.352</td>\n",
       "                        <td id=\"T_4ab4f_row0_col1\" class=\"data row0 col1\" >3.428 ± 0.379</td>\n",
       "                        <td id=\"T_4ab4f_row0_col2\" class=\"data row0 col2\" >1.463 ± 0.175</td>\n",
       "                        <td id=\"T_4ab4f_row0_col3\" class=\"data row0 col3\" >0.247 ± 0.106</td>\n",
       "            </tr>\n",
       "            <tr>\n",
       "                        <th id=\"T_4ab4f_level0_row1\" class=\"row_heading level0 row1\" >1.0</th>\n",
       "                        <td id=\"T_4ab4f_row1_col0\" class=\"data row1 col0\" >5.936 ± 0.516</td>\n",
       "                        <td id=\"T_4ab4f_row1_col1\" class=\"data row1 col1\" >2.77 ± 0.314</td>\n",
       "                        <td id=\"T_4ab4f_row1_col2\" class=\"data row1 col2\" >4.26 ± 0.47</td>\n",
       "                        <td id=\"T_4ab4f_row1_col3\" class=\"data row1 col3\" >1.326 ± 0.198</td>\n",
       "            </tr>\n",
       "            <tr>\n",
       "                        <th id=\"T_4ab4f_level0_row2\" class=\"row_heading level0 row2\" >2.0</th>\n",
       "                        <td id=\"T_4ab4f_row2_col0\" class=\"data row2 col0\" >6.588 ± 0.636</td>\n",
       "                        <td id=\"T_4ab4f_row2_col1\" class=\"data row2 col1\" >2.974 ± 0.322</td>\n",
       "                        <td id=\"T_4ab4f_row2_col2\" class=\"data row2 col2\" >5.552 ± 0.552</td>\n",
       "                        <td id=\"T_4ab4f_row2_col3\" class=\"data row2 col3\" >2.026 ± 0.275</td>\n",
       "            </tr>\n",
       "    </tbody></table>"
      ],
      "text/plain": [
       "<pandas.io.formats.style.Styler at 0x2e42a4cde08>"
      ]
     },
     "execution_count": 42,
     "metadata": {},
     "output_type": "execute_result"
    }
   ],
   "source": [
    "iris_mean_std_colors = new_df.style\n",
    "iris_mean_std_colors.ctx = iris_cut_colors.ctx\n",
    "iris_mean_std_colors"
   ]
  },
  {
   "cell_type": "code",
   "execution_count": 43,
   "metadata": {},
   "outputs": [],
   "source": [
    "import matplotlib.pyplot as plt\n",
    "from matplotlib import colors"
   ]
  },
  {
   "cell_type": "markdown",
   "metadata": {},
   "source": [
    "Otra forma:\n"
   ]
  },
  {
   "cell_type": "code",
   "execution_count": 44,
   "metadata": {},
   "outputs": [],
   "source": [
    "def b_g(s, cmap='PuBu', low=0, high=0):\n",
    "    # take the text preceding the +-\n",
    "    a = s.apply(lambda x: float(x.split(\"±\")[0]))\n",
    "\n",
    "    rng = a.max() - a.min()\n",
    "    norm = colors.Normalize(a.min() - (rng * low),\n",
    "                            a.max() + (rng * high))\n",
    "    normed = norm(a.values)\n",
    "    c = [colors.rgb2hex(x) for x in plt.cm.get_cmap(cmap)(normed)]\n",
    "    return ['background-color: %s' % color for color in c]"
   ]
  },
  {
   "cell_type": "code",
   "execution_count": 45,
   "metadata": {},
   "outputs": [
    {
     "data": {
      "text/html": [
       "<style  type=\"text/css\" >\n",
       "#T_1a0c1_row0_col0,#T_1a0c1_row0_col2,#T_1a0c1_row0_col3,#T_1a0c1_row1_col1{\n",
       "            background-color:  #fff7fb;\n",
       "        }#T_1a0c1_row0_col1,#T_1a0c1_row2_col0,#T_1a0c1_row2_col2,#T_1a0c1_row2_col3{\n",
       "            background-color:  #023858;\n",
       "        }#T_1a0c1_row1_col0{\n",
       "            background-color:  #4897c4;\n",
       "        }#T_1a0c1_row1_col2{\n",
       "            background-color:  #1e80b8;\n",
       "        }#T_1a0c1_row1_col3{\n",
       "            background-color:  #3f93c2;\n",
       "        }#T_1a0c1_row2_col1{\n",
       "            background-color:  #bcc7e1;\n",
       "        }</style><table id=\"T_1a0c1_\" ><thead>    <tr>        <th class=\"blank level0\" ></th>        <th class=\"col_heading level0 col0\" >sepal length (cm)</th>        <th class=\"col_heading level0 col1\" >sepal width (cm)</th>        <th class=\"col_heading level0 col2\" >petal length (cm)</th>        <th class=\"col_heading level0 col3\" >petal width (cm)</th>    </tr>    <tr>        <th class=\"index_name level0\" >target</th>        <th class=\"blank\" ></th>        <th class=\"blank\" ></th>        <th class=\"blank\" ></th>        <th class=\"blank\" ></th>    </tr></thead><tbody>\n",
       "                <tr>\n",
       "                        <th id=\"T_1a0c1_level0_row0\" class=\"row_heading level0 row0\" >0.0</th>\n",
       "                        <td id=\"T_1a0c1_row0_col0\" class=\"data row0 col0\" >5.006 ± 0.352</td>\n",
       "                        <td id=\"T_1a0c1_row0_col1\" class=\"data row0 col1\" >3.428 ± 0.379</td>\n",
       "                        <td id=\"T_1a0c1_row0_col2\" class=\"data row0 col2\" >1.463 ± 0.175</td>\n",
       "                        <td id=\"T_1a0c1_row0_col3\" class=\"data row0 col3\" >0.247 ± 0.106</td>\n",
       "            </tr>\n",
       "            <tr>\n",
       "                        <th id=\"T_1a0c1_level0_row1\" class=\"row_heading level0 row1\" >1.0</th>\n",
       "                        <td id=\"T_1a0c1_row1_col0\" class=\"data row1 col0\" >5.936 ± 0.516</td>\n",
       "                        <td id=\"T_1a0c1_row1_col1\" class=\"data row1 col1\" >2.77 ± 0.314</td>\n",
       "                        <td id=\"T_1a0c1_row1_col2\" class=\"data row1 col2\" >4.26 ± 0.47</td>\n",
       "                        <td id=\"T_1a0c1_row1_col3\" class=\"data row1 col3\" >1.326 ± 0.198</td>\n",
       "            </tr>\n",
       "            <tr>\n",
       "                        <th id=\"T_1a0c1_level0_row2\" class=\"row_heading level0 row2\" >2.0</th>\n",
       "                        <td id=\"T_1a0c1_row2_col0\" class=\"data row2 col0\" >6.588 ± 0.636</td>\n",
       "                        <td id=\"T_1a0c1_row2_col1\" class=\"data row2 col1\" >2.974 ± 0.322</td>\n",
       "                        <td id=\"T_1a0c1_row2_col2\" class=\"data row2 col2\" >5.552 ± 0.552</td>\n",
       "                        <td id=\"T_1a0c1_row2_col3\" class=\"data row2 col3\" >2.026 ± 0.275</td>\n",
       "            </tr>\n",
       "    </tbody></table>"
      ],
      "text/plain": [
       "<pandas.io.formats.style.Styler at 0x2e42a4d1488>"
      ]
     },
     "execution_count": 45,
     "metadata": {},
     "output_type": "execute_result"
    }
   ],
   "source": [
    "new_df.style.apply(b_g)"
   ]
  },
  {
   "cell_type": "markdown",
   "metadata": {},
   "source": [
    "\n"
   ]
  },
  {
   "cell_type": "code",
   "execution_count": null,
   "metadata": {},
   "outputs": [],
   "source": []
  }
 ],
 "metadata": {
  "kernelspec": {
   "display_name": "Python 3",
   "language": "python",
   "name": "python3"
  },
  "language_info": {
   "codemirror_mode": {
    "name": "ipython",
    "version": 3
   },
   "file_extension": ".py",
   "mimetype": "text/x-python",
   "name": "python",
   "nbconvert_exporter": "python",
   "pygments_lexer": "ipython3",
   "version": "3.7.4"
  }
 },
 "nbformat": 4,
 "nbformat_minor": 4
}
