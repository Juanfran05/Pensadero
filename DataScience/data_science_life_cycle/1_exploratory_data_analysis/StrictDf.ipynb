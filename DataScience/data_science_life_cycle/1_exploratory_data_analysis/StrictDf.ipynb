{
 "cells": [
  {
   "cell_type": "markdown",
   "metadata": {},
   "source": [
    "# StrictDF\n",
    "---\n",
    "Vamos a mostrar el uso de la libreria [StrictDf](https://github.com/CristianContrera95/strict_df), la cual permite saber el tipo de datos correcto en un dataframe, chequeando sus valores y borrando los que no se correspondan.\n",
    "\n",
    "*En el repositorio se puede encontrar los comandos para leer la documentacion de la libreria*"
   ]
  },
  {
   "cell_type": "markdown",
   "metadata": {},
   "source": [
    "#### Install library\n",
    "- from GitHub"
   ]
  },
  {
   "cell_type": "code",
   "execution_count": 2,
   "metadata": {},
   "outputs": [],
   "source": [
    "#!pip install git+git://github.com/CristianContrera95/strict_df.git"
   ]
  },
  {
   "cell_type": "markdown",
   "metadata": {},
   "source": [
    "- from local dist"
   ]
  },
  {
   "cell_type": "code",
   "execution_count": 2,
   "metadata": {},
   "outputs": [],
   "source": [
    "# !pip install ../../dist/strictdf-0.1.0-py3-none-any.whl"
   ]
  },
  {
   "cell_type": "markdown",
   "metadata": {},
   "source": [
    "---"
   ]
  },
  {
   "cell_type": "code",
   "execution_count": 1,
   "metadata": {},
   "outputs": [],
   "source": [
    "from strictdf import StrictDataFrame\n",
    "from strictdf.utils.dataset import load_credit_data"
   ]
  },
  {
   "cell_type": "markdown",
   "metadata": {},
   "source": [
    "### Load given dataset from S3"
   ]
  },
  {
   "cell_type": "code",
   "execution_count": 2,
   "metadata": {},
   "outputs": [
    {
     "name": "stderr",
     "output_type": "stream",
     "text": [
      "/home/anybody/Projects/Acamica/venv/lib/python3.8/site-packages/IPython/core/interactiveshell.py:3254: DtypeWarning: Columns (10) have mixed types.Specify dtype option on import or set low_memory=False.\n",
      "  if (await self.run_code(code, result,  async_=asy)):\n"
     ]
    }
   ],
   "source": [
    "df = load_credit_data()"
   ]
  },
  {
   "cell_type": "markdown",
   "metadata": {},
   "source": [
    "### Required use case"
   ]
  },
  {
   "cell_type": "code",
   "execution_count": 13,
   "metadata": {},
   "outputs": [
    {
     "data": {
      "text/plain": [
       "{'serious_dlqin2yrs': 'bool',\n",
       " 'revolving_utilization_of_unsecured_lines': 'float64',\n",
       " 'age': 'int64',\n",
       " 'number_of_time30-59_days_past_due_not_worse': 'int64',\n",
       " 'debt_ratio': 'float64',\n",
       " 'monthly_income': 'int64',\n",
       " 'number_of_open_credit_lines_and_loans': 'int64',\n",
       " 'number_of_times90_days_late': 'int64',\n",
       " 'number_real_estate_loans_or_lines': 'int64',\n",
       " 'number_of_time60-89_days_past_due_not_worse': 'int64',\n",
       " 'number_of_dependents': 'int64'}"
      ]
     },
     "execution_count": 13,
     "metadata": {},
     "output_type": "execute_result"
    }
   ],
   "source": [
    "sdf = StrictDataFrame(df)\n",
    "\n",
    "sdf.dtypes"
   ]
  },
  {
   "cell_type": "code",
   "execution_count": 11,
   "metadata": {},
   "outputs": [
    {
     "data": {
      "text/plain": [
       "\"DataFrame having shape '(120157, 11)' (29843 rows removed from original)\""
      ]
     },
     "execution_count": 11,
     "metadata": {},
     "output_type": "execute_result"
    }
   ],
   "source": [
    "sdf.report()"
   ]
  },
  {
   "cell_type": "code",
   "execution_count": 14,
   "metadata": {},
   "outputs": [
    {
     "data": {
      "text/html": [
       "<div>\n",
       "<style scoped>\n",
       "    .dataframe tbody tr th:only-of-type {\n",
       "        vertical-align: middle;\n",
       "    }\n",
       "\n",
       "    .dataframe tbody tr th {\n",
       "        vertical-align: top;\n",
       "    }\n",
       "\n",
       "    .dataframe thead th {\n",
       "        text-align: right;\n",
       "    }\n",
       "</style>\n",
       "<table border=\"1\" class=\"dataframe\">\n",
       "  <thead>\n",
       "    <tr style=\"text-align: right;\">\n",
       "      <th></th>\n",
       "      <th>serious_dlqin2yrs</th>\n",
       "      <th>revolving_utilization_of_unsecured_lines</th>\n",
       "      <th>age</th>\n",
       "      <th>number_of_time30-59_days_past_due_not_worse</th>\n",
       "      <th>debt_ratio</th>\n",
       "      <th>monthly_income</th>\n",
       "      <th>number_of_open_credit_lines_and_loans</th>\n",
       "      <th>number_of_times90_days_late</th>\n",
       "      <th>number_real_estate_loans_or_lines</th>\n",
       "      <th>number_of_time60-89_days_past_due_not_worse</th>\n",
       "      <th>number_of_dependents</th>\n",
       "    </tr>\n",
       "  </thead>\n",
       "  <tbody>\n",
       "    <tr>\n",
       "      <th>149995</th>\n",
       "      <td>False</td>\n",
       "      <td>0.040674</td>\n",
       "      <td>74</td>\n",
       "      <td>0</td>\n",
       "      <td>0.225131</td>\n",
       "      <td>2100</td>\n",
       "      <td>4</td>\n",
       "      <td>0</td>\n",
       "      <td>1</td>\n",
       "      <td>0</td>\n",
       "      <td>0</td>\n",
       "    </tr>\n",
       "    <tr>\n",
       "      <th>149996</th>\n",
       "      <td>False</td>\n",
       "      <td>0.299745</td>\n",
       "      <td>44</td>\n",
       "      <td>0</td>\n",
       "      <td>0.716562</td>\n",
       "      <td>5584</td>\n",
       "      <td>4</td>\n",
       "      <td>0</td>\n",
       "      <td>1</td>\n",
       "      <td>0</td>\n",
       "      <td>2</td>\n",
       "    </tr>\n",
       "    <tr>\n",
       "      <th>149998</th>\n",
       "      <td>False</td>\n",
       "      <td>0.000000</td>\n",
       "      <td>30</td>\n",
       "      <td>0</td>\n",
       "      <td>0.000000</td>\n",
       "      <td>5716</td>\n",
       "      <td>4</td>\n",
       "      <td>0</td>\n",
       "      <td>0</td>\n",
       "      <td>0</td>\n",
       "      <td>0</td>\n",
       "    </tr>\n",
       "    <tr>\n",
       "      <th>149999</th>\n",
       "      <td>False</td>\n",
       "      <td>0.850283</td>\n",
       "      <td>64</td>\n",
       "      <td>0</td>\n",
       "      <td>0.249908</td>\n",
       "      <td>8158</td>\n",
       "      <td>8</td>\n",
       "      <td>0</td>\n",
       "      <td>2</td>\n",
       "      <td>0</td>\n",
       "      <td>0</td>\n",
       "    </tr>\n",
       "  </tbody>\n",
       "</table>\n",
       "</div>"
      ],
      "text/plain": [
       "        serious_dlqin2yrs  revolving_utilization_of_unsecured_lines  age  \\\n",
       "149995              False                                  0.040674   74   \n",
       "149996              False                                  0.299745   44   \n",
       "149998              False                                  0.000000   30   \n",
       "149999              False                                  0.850283   64   \n",
       "\n",
       "        number_of_time30-59_days_past_due_not_worse  debt_ratio  \\\n",
       "149995                                            0    0.225131   \n",
       "149996                                            0    0.716562   \n",
       "149998                                            0    0.000000   \n",
       "149999                                            0    0.249908   \n",
       "\n",
       "        monthly_income  number_of_open_credit_lines_and_loans  \\\n",
       "149995            2100                                      4   \n",
       "149996            5584                                      4   \n",
       "149998            5716                                      4   \n",
       "149999            8158                                      8   \n",
       "\n",
       "        number_of_times90_days_late  number_real_estate_loans_or_lines  \\\n",
       "149995                            0                                  1   \n",
       "149996                            0                                  1   \n",
       "149998                            0                                  0   \n",
       "149999                            0                                  2   \n",
       "\n",
       "        number_of_time60-89_days_past_due_not_worse  number_of_dependents  \n",
       "149995                                            0                     0  \n",
       "149996                                            0                     2  \n",
       "149998                                            0                     0  \n",
       "149999                                            0                     0  "
      ]
     },
     "execution_count": 14,
     "metadata": {},
     "output_type": "execute_result"
    }
   ],
   "source": [
    "sdf.new_df.tail(4)"
   ]
  },
  {
   "cell_type": "code",
   "execution_count": 15,
   "metadata": {},
   "outputs": [
    {
     "data": {
      "text/html": [
       "<div>\n",
       "<style scoped>\n",
       "    .dataframe tbody tr th:only-of-type {\n",
       "        vertical-align: middle;\n",
       "    }\n",
       "\n",
       "    .dataframe tbody tr th {\n",
       "        vertical-align: top;\n",
       "    }\n",
       "\n",
       "    .dataframe thead th {\n",
       "        text-align: right;\n",
       "    }\n",
       "</style>\n",
       "<table border=\"1\" class=\"dataframe\">\n",
       "  <thead>\n",
       "    <tr style=\"text-align: right;\">\n",
       "      <th></th>\n",
       "      <th>serious_dlqin2yrs</th>\n",
       "      <th>revolving_utilization_of_unsecured_lines</th>\n",
       "      <th>age</th>\n",
       "      <th>number_of_time30-59_days_past_due_not_worse</th>\n",
       "      <th>debt_ratio</th>\n",
       "      <th>monthly_income</th>\n",
       "      <th>number_of_open_credit_lines_and_loans</th>\n",
       "      <th>number_of_times90_days_late</th>\n",
       "      <th>number_real_estate_loans_or_lines</th>\n",
       "      <th>number_of_time60-89_days_past_due_not_worse</th>\n",
       "      <th>number_of_dependents</th>\n",
       "    </tr>\n",
       "  </thead>\n",
       "  <tbody>\n",
       "    <tr>\n",
       "      <th>149996</th>\n",
       "      <td>0</td>\n",
       "      <td>0.299745</td>\n",
       "      <td>44.0</td>\n",
       "      <td>0</td>\n",
       "      <td>0.716562</td>\n",
       "      <td>5584.0</td>\n",
       "      <td>4</td>\n",
       "      <td>0</td>\n",
       "      <td>1</td>\n",
       "      <td>0</td>\n",
       "      <td>2</td>\n",
       "    </tr>\n",
       "    <tr>\n",
       "      <th>149997</th>\n",
       "      <td>0</td>\n",
       "      <td>0.246044</td>\n",
       "      <td>58.0</td>\n",
       "      <td>0</td>\n",
       "      <td>3870.000000</td>\n",
       "      <td>NaN</td>\n",
       "      <td>18</td>\n",
       "      <td>0</td>\n",
       "      <td>1</td>\n",
       "      <td>0</td>\n",
       "      <td>0</td>\n",
       "    </tr>\n",
       "    <tr>\n",
       "      <th>149998</th>\n",
       "      <td>0</td>\n",
       "      <td>0.000000</td>\n",
       "      <td>30.0</td>\n",
       "      <td>0</td>\n",
       "      <td>0.000000</td>\n",
       "      <td>5716.0</td>\n",
       "      <td>4</td>\n",
       "      <td>0</td>\n",
       "      <td>0</td>\n",
       "      <td>0</td>\n",
       "      <td>0</td>\n",
       "    </tr>\n",
       "    <tr>\n",
       "      <th>149999</th>\n",
       "      <td>0</td>\n",
       "      <td>0.850283</td>\n",
       "      <td>64.0</td>\n",
       "      <td>0</td>\n",
       "      <td>0.249908</td>\n",
       "      <td>8158.0</td>\n",
       "      <td>8</td>\n",
       "      <td>0</td>\n",
       "      <td>2</td>\n",
       "      <td>0</td>\n",
       "      <td>0</td>\n",
       "    </tr>\n",
       "  </tbody>\n",
       "</table>\n",
       "</div>"
      ],
      "text/plain": [
       "        serious_dlqin2yrs  revolving_utilization_of_unsecured_lines   age  \\\n",
       "149996                  0                                  0.299745  44.0   \n",
       "149997                  0                                  0.246044  58.0   \n",
       "149998                  0                                  0.000000  30.0   \n",
       "149999                  0                                  0.850283  64.0   \n",
       "\n",
       "        number_of_time30-59_days_past_due_not_worse   debt_ratio  \\\n",
       "149996                                            0     0.716562   \n",
       "149997                                            0  3870.000000   \n",
       "149998                                            0     0.000000   \n",
       "149999                                            0     0.249908   \n",
       "\n",
       "        monthly_income  number_of_open_credit_lines_and_loans  \\\n",
       "149996          5584.0                                      4   \n",
       "149997             NaN                                     18   \n",
       "149998          5716.0                                      4   \n",
       "149999          8158.0                                      8   \n",
       "\n",
       "        number_of_times90_days_late  number_real_estate_loans_or_lines  \\\n",
       "149996                            0                                  1   \n",
       "149997                            0                                  1   \n",
       "149998                            0                                  0   \n",
       "149999                            0                                  2   \n",
       "\n",
       "        number_of_time60-89_days_past_due_not_worse number_of_dependents  \n",
       "149996                                            0                    2  \n",
       "149997                                            0                    0  \n",
       "149998                                            0                    0  \n",
       "149999                                            0                    0  "
      ]
     },
     "execution_count": 15,
     "metadata": {},
     "output_type": "execute_result"
    }
   ],
   "source": [
    "sdf.old_df.tail(4)"
   ]
  },
  {
   "cell_type": "markdown",
   "metadata": {},
   "source": [
    "---"
   ]
  },
  {
   "cell_type": "markdown",
   "metadata": {},
   "source": [
    "### Other use example"
   ]
  },
  {
   "cell_type": "code",
   "execution_count": 18,
   "metadata": {},
   "outputs": [],
   "source": [
    "import pandas as pd"
   ]
  },
  {
   "cell_type": "markdown",
   "metadata": {},
   "source": [
    "- You can download this dataset [here](https://drive.google.com/uc?export=download&id=1Ugbsw5XbNRbglomSQO1qkAgMFB_3BzmB)"
   ]
  },
  {
   "cell_type": "code",
   "execution_count": 20,
   "metadata": {},
   "outputs": [
    {
     "data": {
      "text/html": [
       "<div>\n",
       "<style scoped>\n",
       "    .dataframe tbody tr th:only-of-type {\n",
       "        vertical-align: middle;\n",
       "    }\n",
       "\n",
       "    .dataframe tbody tr th {\n",
       "        vertical-align: top;\n",
       "    }\n",
       "\n",
       "    .dataframe thead th {\n",
       "        text-align: right;\n",
       "    }\n",
       "</style>\n",
       "<table border=\"1\" class=\"dataframe\">\n",
       "  <thead>\n",
       "    <tr style=\"text-align: right;\">\n",
       "      <th></th>\n",
       "      <th>start_date</th>\n",
       "      <th>end_date</th>\n",
       "      <th>created_on</th>\n",
       "      <th>lat</th>\n",
       "      <th>lon</th>\n",
       "      <th>l1</th>\n",
       "      <th>l2</th>\n",
       "      <th>l3</th>\n",
       "      <th>rooms</th>\n",
       "      <th>bedrooms</th>\n",
       "      <th>bathrooms</th>\n",
       "      <th>surface_total</th>\n",
       "      <th>surface_covered</th>\n",
       "      <th>price</th>\n",
       "      <th>currency</th>\n",
       "      <th>title</th>\n",
       "      <th>description</th>\n",
       "      <th>property_type</th>\n",
       "      <th>operation_type</th>\n",
       "    </tr>\n",
       "  </thead>\n",
       "  <tbody>\n",
       "    <tr>\n",
       "      <th>146656</th>\n",
       "      <td>2019-07-31</td>\n",
       "      <td>2019-08-14</td>\n",
       "      <td>2019-07-31</td>\n",
       "      <td>-34.446459</td>\n",
       "      <td>-58.937810</td>\n",
       "      <td>Argentina</td>\n",
       "      <td>Bs.As. G.B.A. Zona Norte</td>\n",
       "      <td>Pilar</td>\n",
       "      <td>4.0</td>\n",
       "      <td>3.0</td>\n",
       "      <td>2.0</td>\n",
       "      <td>164.0</td>\n",
       "      <td>90.0</td>\n",
       "      <td>130000.0</td>\n",
       "      <td>USD</td>\n",
       "      <td>Venta departamentos tres dormitorios jardín co...</td>\n",
       "      <td>Muy buen duplex a estrenar en dos plantas más ...</td>\n",
       "      <td>Departamento</td>\n",
       "      <td>Venta</td>\n",
       "    </tr>\n",
       "    <tr>\n",
       "      <th>146657</th>\n",
       "      <td>2019-07-31</td>\n",
       "      <td>2019-08-14</td>\n",
       "      <td>2019-07-31</td>\n",
       "      <td>-34.444633</td>\n",
       "      <td>-58.981606</td>\n",
       "      <td>Argentina</td>\n",
       "      <td>Bs.As. G.B.A. Zona Norte</td>\n",
       "      <td>Pilar</td>\n",
       "      <td>1.0</td>\n",
       "      <td>1.0</td>\n",
       "      <td>1.0</td>\n",
       "      <td>50.0</td>\n",
       "      <td>35.0</td>\n",
       "      <td>73000.0</td>\n",
       "      <td>USD</td>\n",
       "      <td>Venta departamento de un ambiente Manzanares C...</td>\n",
       "      <td>En los Condominios de Campo Manzanares Chico, ...</td>\n",
       "      <td>Departamento</td>\n",
       "      <td>Venta</td>\n",
       "    </tr>\n",
       "    <tr>\n",
       "      <th>146658</th>\n",
       "      <td>2019-07-31</td>\n",
       "      <td>2019-08-14</td>\n",
       "      <td>2019-07-31</td>\n",
       "      <td>-34.444830</td>\n",
       "      <td>-58.981796</td>\n",
       "      <td>Argentina</td>\n",
       "      <td>Bs.As. G.B.A. Zona Norte</td>\n",
       "      <td>Pilar</td>\n",
       "      <td>2.0</td>\n",
       "      <td>1.0</td>\n",
       "      <td>1.0</td>\n",
       "      <td>38.0</td>\n",
       "      <td>38.0</td>\n",
       "      <td>68000.0</td>\n",
       "      <td>USD</td>\n",
       "      <td>Departamento en Venta. Manzanares chico.</td>\n",
       "      <td>Broker: Maria 11Departamento de dos ambientes ...</td>\n",
       "      <td>Departamento</td>\n",
       "      <td>Venta</td>\n",
       "    </tr>\n",
       "    <tr>\n",
       "      <th>146659</th>\n",
       "      <td>2019-07-31</td>\n",
       "      <td>2019-10-12</td>\n",
       "      <td>2019-07-31</td>\n",
       "      <td>-34.444760</td>\n",
       "      <td>-58.981885</td>\n",
       "      <td>Argentina</td>\n",
       "      <td>Bs.As. G.B.A. Zona Norte</td>\n",
       "      <td>Pilar</td>\n",
       "      <td>3.0</td>\n",
       "      <td>2.0</td>\n",
       "      <td>1.0</td>\n",
       "      <td>75.0</td>\n",
       "      <td>75.0</td>\n",
       "      <td>98000.0</td>\n",
       "      <td>USD</td>\n",
       "      <td>Departamento en venta en Manzanares Chico</td>\n",
       "      <td>Departamento en el Barrio Manzanares Chico , e...</td>\n",
       "      <td>Departamento</td>\n",
       "      <td>Venta</td>\n",
       "    </tr>\n",
       "  </tbody>\n",
       "</table>\n",
       "</div>"
      ],
      "text/plain": [
       "        start_date    end_date  created_on        lat        lon         l1  \\\n",
       "146656  2019-07-31  2019-08-14  2019-07-31 -34.446459 -58.937810  Argentina   \n",
       "146657  2019-07-31  2019-08-14  2019-07-31 -34.444633 -58.981606  Argentina   \n",
       "146658  2019-07-31  2019-08-14  2019-07-31 -34.444830 -58.981796  Argentina   \n",
       "146659  2019-07-31  2019-10-12  2019-07-31 -34.444760 -58.981885  Argentina   \n",
       "\n",
       "                              l2     l3  rooms  bedrooms  bathrooms  \\\n",
       "146656  Bs.As. G.B.A. Zona Norte  Pilar    4.0       3.0        2.0   \n",
       "146657  Bs.As. G.B.A. Zona Norte  Pilar    1.0       1.0        1.0   \n",
       "146658  Bs.As. G.B.A. Zona Norte  Pilar    2.0       1.0        1.0   \n",
       "146659  Bs.As. G.B.A. Zona Norte  Pilar    3.0       2.0        1.0   \n",
       "\n",
       "        surface_total  surface_covered     price currency  \\\n",
       "146656          164.0             90.0  130000.0      USD   \n",
       "146657           50.0             35.0   73000.0      USD   \n",
       "146658           38.0             38.0   68000.0      USD   \n",
       "146659           75.0             75.0   98000.0      USD   \n",
       "\n",
       "                                                    title  \\\n",
       "146656  Venta departamentos tres dormitorios jardín co...   \n",
       "146657  Venta departamento de un ambiente Manzanares C...   \n",
       "146658           Departamento en Venta. Manzanares chico.   \n",
       "146659          Departamento en venta en Manzanares Chico   \n",
       "\n",
       "                                              description property_type  \\\n",
       "146656  Muy buen duplex a estrenar en dos plantas más ...  Departamento   \n",
       "146657  En los Condominios de Campo Manzanares Chico, ...  Departamento   \n",
       "146658  Broker: Maria 11Departamento de dos ambientes ...  Departamento   \n",
       "146659  Departamento en el Barrio Manzanares Chico , e...  Departamento   \n",
       "\n",
       "       operation_type  \n",
       "146656          Venta  \n",
       "146657          Venta  \n",
       "146658          Venta  \n",
       "146659          Venta  "
      ]
     },
     "execution_count": 20,
     "metadata": {},
     "output_type": "execute_result"
    }
   ],
   "source": [
    "df = pd.read_csv('DS_Proyecto_01_Datos_Properati.csv')\n",
    "df.tail(4)"
   ]
  },
  {
   "cell_type": "code",
   "execution_count": 21,
   "metadata": {},
   "outputs": [
    {
     "name": "stdout",
     "output_type": "stream",
     "text": [
      "<class 'pandas.core.frame.DataFrame'>\n",
      "RangeIndex: 146660 entries, 0 to 146659\n",
      "Data columns (total 19 columns):\n",
      " #   Column           Non-Null Count   Dtype  \n",
      "---  ------           --------------   -----  \n",
      " 0   start_date       146660 non-null  object \n",
      " 1   end_date         146660 non-null  object \n",
      " 2   created_on       146660 non-null  object \n",
      " 3   lat              136735 non-null  float64\n",
      " 4   lon              136701 non-null  float64\n",
      " 5   l1               146660 non-null  object \n",
      " 6   l2               146660 non-null  object \n",
      " 7   l3               146660 non-null  object \n",
      " 8   rooms            146660 non-null  float64\n",
      " 9   bedrooms         146660 non-null  float64\n",
      " 10  bathrooms        140703 non-null  float64\n",
      " 11  surface_total    126133 non-null  float64\n",
      " 12  surface_covered  125046 non-null  float64\n",
      " 13  price            146660 non-null  float64\n",
      " 14  currency         146660 non-null  object \n",
      " 15  title            146660 non-null  object \n",
      " 16  description      146660 non-null  object \n",
      " 17  property_type    146660 non-null  object \n",
      " 18  operation_type   146660 non-null  object \n",
      "dtypes: float64(8), object(11)\n",
      "memory usage: 21.3+ MB\n"
     ]
    }
   ],
   "source": [
    "df.info()"
   ]
  },
  {
   "cell_type": "code",
   "execution_count": 22,
   "metadata": {},
   "outputs": [
    {
     "data": {
      "text/plain": [
       "{'start_date': 'str',\n",
       " 'end_date': 'str',\n",
       " 'created_on': 'str',\n",
       " 'lat': 'float64',\n",
       " 'lon': 'float64',\n",
       " 'l1': 'str',\n",
       " 'l2': 'str',\n",
       " 'l3': 'str',\n",
       " 'rooms': 'int64',\n",
       " 'bedrooms': 'int64',\n",
       " 'bathrooms': 'int64',\n",
       " 'surface_total': 'int64',\n",
       " 'surface_covered': 'int64',\n",
       " 'price': 'int64',\n",
       " 'currency': 'str',\n",
       " 'title': 'str',\n",
       " 'description': 'str',\n",
       " 'property_type': 'str',\n",
       " 'operation_type': 'str'}"
      ]
     },
     "execution_count": 22,
     "metadata": {},
     "output_type": "execute_result"
    }
   ],
   "source": [
    "sdf = StrictDataFrame(df)\n",
    "\n",
    "sdf.dtypes"
   ]
  },
  {
   "cell_type": "code",
   "execution_count": 23,
   "metadata": {},
   "outputs": [
    {
     "data": {
      "text/plain": [
       "\"DataFrame having shape '(114488, 19)' (32172 rows removed from original)\""
      ]
     },
     "execution_count": 23,
     "metadata": {},
     "output_type": "execute_result"
    }
   ],
   "source": [
    "sdf.report()"
   ]
  },
  {
   "cell_type": "code",
   "execution_count": null,
   "metadata": {},
   "outputs": [],
   "source": []
  }
 ],
 "metadata": {
  "kernelspec": {
   "display_name": "Python 3",
   "language": "python",
   "name": "python3"
  },
  "language_info": {
   "codemirror_mode": {
    "name": "ipython",
    "version": 3
   },
   "file_extension": ".py",
   "mimetype": "text/x-python",
   "name": "python",
   "nbconvert_exporter": "python",
   "pygments_lexer": "ipython3",
   "version": "3.8.2"
  }
 },
 "nbformat": 4,
 "nbformat_minor": 4
}
